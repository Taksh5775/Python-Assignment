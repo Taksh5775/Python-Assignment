{
 "cells": [
  {
   "cell_type": "code",
   "execution_count": 1,
   "id": "33f0e704",
   "metadata": {},
   "outputs": [
    {
     "name": "stdout",
     "output_type": "stream",
     "text": [
      "1. insert element\n",
      "2. delete element\n",
      "3. exit\n",
      "Enter choice : 1\n",
      "enter element1\n",
      "[1]\n",
      "Enter choice : 1\n",
      "enter element2\n",
      "[1, 2]\n",
      "Enter choice : 1\n",
      "enter element3\n",
      "[1, 2, 3]\n",
      "Enter choice : 1\n",
      "enter element4\n",
      "[1, 2, 3, 4]\n",
      "Enter choice : 2\n",
      "4\n",
      "Enter choice : 2\n",
      "3\n",
      "Enter choice : 3\n",
      "final list is : [1, 2]\n"
     ]
    }
   ],
   "source": [
    "list1 = []\n",
    "print(\"1. insert element\")\n",
    "print(\"2. delete element\")\n",
    "print(\"3. exit\")\n",
    "choice = 0\n",
    "while choice != 3:\n",
    "    choice = int(input(\"Enter choice : \" ))\n",
    "    if choice == 1:\n",
    "        l1 = int(input(\"enter element\"))\n",
    "        list1.append(l1)\n",
    "        print(list1)\n",
    "    \n",
    "    elif choice == 2:\n",
    "        if len(list1) == 0:\n",
    "            print(\"list is empty\")\n",
    "        else:\n",
    "            print(list1.pop())\n",
    "    \n",
    "    else:\n",
    "        print(\"final list is :\",list1)\n",
    "        break"
   ]
  },
  {
   "cell_type": "code",
   "execution_count": null,
   "id": "10d0a9c6",
   "metadata": {},
   "outputs": [],
   "source": [
    "\n",
    "9. Python program to Put Even and odd Numbers in Separate List\n"
   ]
  },
  {
   "cell_type": "markdown",
   "id": "73dfae0d",
   "metadata": {},
   "source": [
    "## 1. Python Program to Calculate the Average of List Items\n"
   ]
  },
  {
   "cell_type": "code",
   "execution_count": 5,
   "id": "51bd1794",
   "metadata": {},
   "outputs": [
    {
     "name": "stdout",
     "output_type": "stream",
     "text": [
      "average of elements of list:  3.0\n"
     ]
    }
   ],
   "source": [
    "list1 = [1,2,3,4,5]\n",
    "sum1 = 0\n",
    "for i in range(len(list1)):\n",
    "    sum1 = sum1 + list1[i]\n",
    "average = sum1/len(list1)\n",
    "print(\"average of elements of list: \",average)"
   ]
  },
  {
   "cell_type": "markdown",
   "id": "5ec85ffe",
   "metadata": {},
   "source": [
    "## 2. Python Program to Print List Items Greater Than Average\n"
   ]
  },
  {
   "cell_type": "code",
   "execution_count": 9,
   "id": "c927c728",
   "metadata": {},
   "outputs": [
    {
     "name": "stdout",
     "output_type": "stream",
     "text": [
      "greater than average elemets: [4, 5]\n"
     ]
    }
   ],
   "source": [
    "list1 = [1,2,3,4,5]\n",
    "list2 = []\n",
    "sum1 = 0\n",
    "for i in range(len(list1)):\n",
    "    sum1 = sum1 + list1[i]\n",
    "average = sum1/len(list1)\n",
    "for i in list1:\n",
    "    if i > average:\n",
    "        list2.append(i)\n",
    "print(\"greater than average elemets:\",list2)"
   ]
  },
  {
   "cell_type": "markdown",
   "id": "b4f5e85e",
   "metadata": {},
   "source": [
    "## 3. Python Program to Print List Items at Even Position\n"
   ]
  },
  {
   "cell_type": "code",
   "execution_count": 3,
   "id": "14b21a79",
   "metadata": {},
   "outputs": [
    {
     "name": "stdout",
     "output_type": "stream",
     "text": [
      "[4, 6, 3, 7]\n"
     ]
    }
   ],
   "source": [
    "list1 = [1,4,5,6,73,3,56,7]\n",
    "list2 = []\n",
    "for i in range(len(list1)):\n",
    "    if i % 2 != 0:\n",
    "        list2.append(list1[i])\n",
    "print(list2)"
   ]
  },
  {
   "cell_type": "markdown",
   "id": "68cc9a5b",
   "metadata": {},
   "source": [
    "## 4. Python Program to Print List Items at Odd Position\n"
   ]
  },
  {
   "cell_type": "code",
   "execution_count": 4,
   "id": "9b199ce3",
   "metadata": {},
   "outputs": [
    {
     "name": "stdout",
     "output_type": "stream",
     "text": [
      "[1, 5, 73, 56]\n"
     ]
    }
   ],
   "source": [
    "list1 = [1,4,5,6,73,3,56,7]\n",
    "list2 = []\n",
    "for i in range(len(list1)):\n",
    "    if i % 2 == 0:\n",
    "        list2.append(list1[i])\n",
    "print(list2)"
   ]
  },
  {
   "cell_type": "markdown",
   "id": "5e80667d",
   "metadata": {},
   "source": [
    "## 5 & 6. Python program to Even and Odd Numbers in a List\n"
   ]
  },
  {
   "cell_type": "code",
   "execution_count": 10,
   "id": "740f87ce",
   "metadata": {},
   "outputs": [
    {
     "name": "stdout",
     "output_type": "stream",
     "text": [
      "[4, 6, 56]\n",
      "[1, 5, 73, 3, 7]\n"
     ]
    }
   ],
   "source": [
    "list1 = [1,4,5,6,73,3,56,7]\n",
    "Even_list = []\n",
    "Odd_list = []\n",
    "\n",
    "for i in list1:\n",
    "    if i % 2 == 0:\n",
    "        Even_list.append(i)\n",
    "    else:\n",
    "        Odd_list.append(i)\n",
    "print(Even_list)\n",
    "print(Odd_list)\n",
    "        \n",
    "        \n",
    "    "
   ]
  },
  {
   "cell_type": "markdown",
   "id": "678cb6e2",
   "metadata": {},
   "source": [
    "## 7 & 8. Python program to Print Positive Numbers and Negative Numbers.\n"
   ]
  },
  {
   "cell_type": "code",
   "execution_count": 11,
   "id": "348547b9",
   "metadata": {},
   "outputs": [
    {
     "name": "stdout",
     "output_type": "stream",
     "text": [
      "[1, 4, 5, 6, 55, 3, 43]\n",
      "[-1, -3, -5, -10, -70, -6]\n"
     ]
    }
   ],
   "source": [
    "list1 = [1,4,5,6,-1,55,-3,3,-5,-10,43,-70,-6]\n",
    "Positive_list = []\n",
    "Negative_list = []\n",
    "for i in list1:\n",
    "    if i > 0:\n",
    "        Positive_list.append(i)\n",
    "    else:\n",
    "        Negative_list.append(i)\n",
    "print(Positive_list)\n",
    "print(Negative_list)\n",
    "        \n"
   ]
  },
  {
   "cell_type": "code",
   "execution_count": null,
   "id": "b9ec6c3e",
   "metadata": {},
   "outputs": [],
   "source": [
    "# 9. Python program to Put Even and odd Numbers in Separate List\n",
    "# 10.Python program to Put Positive and Negative Numbers in Separate List\n",
    "\n"
   ]
  },
  {
   "cell_type": "markdown",
   "id": "7c035d06",
   "metadata": {},
   "source": [
    "## 11.Python program to Remove Duplicates from List\n"
   ]
  },
  {
   "cell_type": "code",
   "execution_count": 14,
   "id": "d01e1026",
   "metadata": {},
   "outputs": [
    {
     "name": "stdout",
     "output_type": "stream",
     "text": [
      "[1, 3, 4, 6, 2, 51, 5, 7, 8, 9]\n"
     ]
    }
   ],
   "source": [
    "list1 = [1,3,4,6,2,3,2,3,1,4,51,5,7,6,8,9,8]\n",
    "list2 = []\n",
    "for i in list1:\n",
    "    if i not in list2:\n",
    "        list2.append(i)\n",
    "print(list2)"
   ]
  },
  {
   "cell_type": "markdown",
   "id": "b7e12a1d",
   "metadata": {},
   "source": [
    "## 12.Python program to Remove Even Numbers in a List\n"
   ]
  },
  {
   "cell_type": "code",
   "execution_count": 17,
   "id": "9ad25a6e",
   "metadata": {},
   "outputs": [
    {
     "name": "stdout",
     "output_type": "stream",
     "text": [
      "list after removing even elemets: [1, 3, 6, 3, 3, 1, 51, 5, 7, 9]\n"
     ]
    }
   ],
   "source": [
    "list1 = [1,3,4,6,2,3,2,3,1,4,51,5,7,8,9]\n",
    "for i in list1:\n",
    "    if i%2 == 0:\n",
    "        list1.remove(i)\n",
    "print(\"list after removing even elemets:\",list1)\n"
   ]
  },
  {
   "cell_type": "markdown",
   "id": "bcc23540",
   "metadata": {},
   "source": [
    "## 13.Python program to Reverse List Items\n"
   ]
  },
  {
   "cell_type": "code",
   "execution_count": 18,
   "id": "a17e62f6",
   "metadata": {},
   "outputs": [
    {
     "name": "stdout",
     "output_type": "stream",
     "text": [
      "[9, 8, 7, 5, 51, 4, 1, 3, 2, 3, 2, 6, 4, 3, 1]\n"
     ]
    }
   ],
   "source": [
    "list1 = [1,3,4,6,2,3,2,3,1,4,51,5,7,8,9]\n",
    "list1.reverse()\n",
    "print(list1)"
   ]
  },
  {
   "cell_type": "markdown",
   "id": "7ee4b4ef",
   "metadata": {},
   "source": [
    "## 14.Python program to Print Second Largest Number in a List\n"
   ]
  },
  {
   "cell_type": "code",
   "execution_count": 24,
   "id": "5bf16266",
   "metadata": {},
   "outputs": [
    {
     "name": "stdout",
     "output_type": "stream",
     "text": [
      "Second largest number of list1 is : 2\n"
     ]
    }
   ],
   "source": [
    "list1 = [1,3,4,6,2,3,2,3,1,4,51,5,7,8,9]\n",
    "list2 = []\n",
    "for i in list1:\n",
    "    if i not in list2:\n",
    "        list2.append(i)\n",
    "list2.sort()\n",
    "print(\"Second largest number of list1 is :\",list2[1])"
   ]
  },
  {
   "cell_type": "markdown",
   "id": "03f8cf89",
   "metadata": {},
   "source": [
    "## 15 & 16.Python program to Sort List Items in Ascending Order & Descending Order\n"
   ]
  },
  {
   "cell_type": "code",
   "execution_count": 25,
   "id": "a583ed0e",
   "metadata": {},
   "outputs": [
    {
     "name": "stdout",
     "output_type": "stream",
     "text": [
      "list in ascending order : [1, 1, 2, 2, 3, 3, 3, 4, 4, 5, 6, 7, 8, 9, 51]\n",
      "list in descending order : [51, 9, 8, 7, 6, 5, 4, 4, 3, 3, 3, 2, 2, 1, 1]\n"
     ]
    }
   ],
   "source": [
    "list1 = [1,3,4,6,2,3,2,3,1,4,51,5,7,8,9]\n",
    "list1.sort()\n",
    "print(\"list in ascending order :\",list1)\n",
    "list1.sort(reverse=True)\n",
    "print(\"list in descending order :\",list1)"
   ]
  },
  {
   "cell_type": "markdown",
   "id": "ef170bfe",
   "metadata": {},
   "source": [
    "## 17.Python program to Print Smallest Element in a List\n"
   ]
  },
  {
   "cell_type": "code",
   "execution_count": 31,
   "id": "35eac5f8",
   "metadata": {},
   "outputs": [
    {
     "name": "stdout",
     "output_type": "stream",
     "text": [
      "1\n"
     ]
    }
   ],
   "source": [
    "list1 = [1,3,4,6,2,3,2,3,1,4,51,5,7,8,9]\n",
    "print(min(list1))"
   ]
  },
  {
   "cell_type": "markdown",
   "id": "5dfeb620",
   "metadata": {},
   "source": [
    "## 18.Python program to find Sum of Even and Odd Numbers in a List"
   ]
  },
  {
   "cell_type": "code",
   "execution_count": 26,
   "id": "8d3fb9b9",
   "metadata": {},
   "outputs": [
    {
     "name": "stdout",
     "output_type": "stream",
     "text": [
      "sum of even numbers in list :  26\n",
      "sum of odd numbers in list :  83\n"
     ]
    }
   ],
   "source": [
    "list1 = [1,3,4,6,2,3,2,3,1,4,51,5,7,8,9]\n",
    "Esum = 0\n",
    "Osum = 0\n",
    "for i in list1:\n",
    "    if i % 2 == 0:\n",
    "        Esum += i\n",
    "    else:\n",
    "        Osum += i\n",
    "print(\"sum of even numbers in list : \",Esum)\n",
    "print(\"sum of odd numbers in list : \",Osum)\n"
   ]
  },
  {
   "cell_type": "markdown",
   "id": "0f728b7b",
   "metadata": {},
   "source": [
    "## 19.Python Program to Left Rotate a List by n\n"
   ]
  },
  {
   "cell_type": "code",
   "execution_count": 28,
   "id": "21917a9a",
   "metadata": {},
   "outputs": [
    {
     "name": "stdout",
     "output_type": "stream",
     "text": [
      "how many steps you want to left rotate :5\n",
      "[3, 2, 3, 1, 4, 51, 5, 7, 8, 9, 1, 3, 4, 6, 2]\n"
     ]
    }
   ],
   "source": [
    "list1 = [1,3,4,6,2,3,2,3,1,4,51,5,7,8,9]\n",
    "n = int(input(\"how many steps you want to left rotate :\"))\n",
    "print(list1[n:]+list1[:n])\n"
   ]
  },
  {
   "cell_type": "markdown",
   "id": "99adf58b",
   "metadata": {},
   "source": [
    "## 20.Python Program to Right Rotate a List by n."
   ]
  },
  {
   "cell_type": "code",
   "execution_count": 30,
   "id": "e20ec9dd",
   "metadata": {},
   "outputs": [
    {
     "name": "stdout",
     "output_type": "stream",
     "text": [
      "how many steps you want to left rotate :5\n",
      "[51, 5, 7, 8, 9, 1, 3, 4, 6, 2, 3, 2, 3, 1, 4]\n"
     ]
    }
   ],
   "source": [
    "list1 = [1,3,4,6,2,3,2,3,1,4,51,5,7,8,9]\n",
    "n = int(input(\"how many steps you want to left rotate :\"))\n",
    "print(list1[-n:]+list1[:-n])"
   ]
  },
  {
   "cell_type": "code",
   "execution_count": null,
   "id": "adb5450f",
   "metadata": {},
   "outputs": [],
   "source": []
  }
 ],
 "metadata": {
  "kernelspec": {
   "display_name": "Python 3",
   "language": "python",
   "name": "python3"
  },
  "language_info": {
   "codemirror_mode": {
    "name": "ipython",
    "version": 3
   },
   "file_extension": ".py",
   "mimetype": "text/x-python",
   "name": "python",
   "nbconvert_exporter": "python",
   "pygments_lexer": "ipython3",
   "version": "3.8.8"
  }
 },
 "nbformat": 4,
 "nbformat_minor": 5
}
