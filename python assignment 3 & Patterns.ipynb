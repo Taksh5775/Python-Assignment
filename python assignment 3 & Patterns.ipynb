{
 "cells": [
  {
   "cell_type": "markdown",
   "id": "ae642aa5",
   "metadata": {},
   "source": [
    "## 2. Half Pyramid Pattern of Numbers\n"
   ]
  },
  {
   "cell_type": "code",
   "execution_count": 14,
   "id": "b71c640d",
   "metadata": {},
   "outputs": [
    {
     "name": "stdout",
     "output_type": "stream",
     "text": [
      "Enter number :5\n",
      "1 \n",
      "1 2 \n",
      "1 2 3 \n",
      "1 2 3 4 \n",
      "1 2 3 4 5 \n"
     ]
    }
   ],
   "source": [
    "n = int(input(\"Enter number :\"))\n",
    "for i in range(1,n+1):\n",
    "    for j in range(1,i+1):\n",
    "        print(j,end = \" \")\n",
    "    print()"
   ]
  },
  {
   "cell_type": "markdown",
   "id": "5e06a2eb",
   "metadata": {},
   "source": [
    "## 3. Inverted Pyramid of Descending Numbers"
   ]
  },
  {
   "cell_type": "code",
   "execution_count": 17,
   "id": "f5ba1163",
   "metadata": {},
   "outputs": [
    {
     "name": "stdout",
     "output_type": "stream",
     "text": [
      "Enter number :5\n",
      "5 5 5 5 5 \n",
      "4 4 4 4 \n",
      "3 3 3 \n",
      "2 2 \n",
      "1 \n"
     ]
    }
   ],
   "source": [
    "n = int(input(\"Enter number :\"))\n",
    "for i in range(n,0,-1):\n",
    "    for j in range(i):\n",
    "        print(i,end = \" \")\n",
    "    print()\n",
    "    "
   ]
  },
  {
   "cell_type": "markdown",
   "id": "18348a7a",
   "metadata": {},
   "source": [
    "## 1. Inverted Pyramid of Numbers"
   ]
  },
  {
   "cell_type": "code",
   "execution_count": 22,
   "id": "4f69d6d6",
   "metadata": {},
   "outputs": [
    {
     "name": "stdout",
     "output_type": "stream",
     "text": [
      "Enter number :5\n",
      "1 1 1 1 1 \n",
      "2 2 2 2 \n",
      "3 3 3 \n",
      "4 4 \n",
      "5 \n"
     ]
    }
   ],
   "source": [
    "n = int(input(\"Enter number :\"))\n",
    "for i in range(1,n+1):\n",
    "    for j in range(n,i-1,-1):\n",
    "        print(i,end = \" \")\n",
    "    print()"
   ]
  },
  {
   "cell_type": "markdown",
   "id": "dc8c7380",
   "metadata": {},
   "source": [
    "## 4. Inverted Pyramid of the Same Digit"
   ]
  },
  {
   "cell_type": "code",
   "execution_count": 23,
   "id": "70de4e69",
   "metadata": {},
   "outputs": [
    {
     "name": "stdout",
     "output_type": "stream",
     "text": [
      "Enter number :5\n",
      "5 5 5 5 5 \n",
      "5 5 5 5 \n",
      "5 5 5 \n",
      "5 5 \n",
      "5 \n"
     ]
    }
   ],
   "source": [
    "n = int(input(\"Enter number :\"))\n",
    "for i in range(1,n+1):\n",
    "    for j in range(n,i-1,-1):\n",
    "        print(n,end = \" \")\n",
    "    print()"
   ]
  },
  {
   "cell_type": "markdown",
   "id": "824c9333",
   "metadata": {},
   "source": [
    "## 5. Reverse Pyramid of Numbers"
   ]
  },
  {
   "cell_type": "code",
   "execution_count": 2,
   "id": "65d21792",
   "metadata": {},
   "outputs": [
    {
     "name": "stdout",
     "output_type": "stream",
     "text": [
      "Enter number :5\n",
      "1 \n",
      "2 1 \n",
      "3 2 1 \n",
      "4 3 2 1 \n",
      "5 4 3 2 1 \n"
     ]
    }
   ],
   "source": [
    "n = int(input(\"Enter number :\"))\n",
    "for i in range(1,n+1):\n",
    "    for j in range(i,0,-1):\n",
    "        print(j,end = \" \")\n",
    "    print()\n",
    "    "
   ]
  },
  {
   "cell_type": "markdown",
   "id": "2257bb84",
   "metadata": {},
   "source": [
    "## 6. Inverted Half Pyramid Number Pattern."
   ]
  },
  {
   "cell_type": "code",
   "execution_count": 11,
   "id": "cf309249",
   "metadata": {},
   "outputs": [
    {
     "name": "stdout",
     "output_type": "stream",
     "text": [
      "Enter number of rows :5\n",
      "0 5 4 3 2 1 \n",
      "0 5 4 3 2 \n",
      "0 5 4 3 \n",
      "0 5 4 \n",
      "0 5 \n"
     ]
    }
   ],
   "source": [
    "n = int(input(\"Enter number of rows :\"))\n",
    "f = 0\n",
    "for i in range(0,n):\n",
    "    print(f,end = \" \")\n",
    "    for j in range(n,i,-1):\n",
    "        print(j,end = \" \")\n",
    "    print()\n"
   ]
  },
  {
   "cell_type": "code",
   "execution_count": 15,
   "id": "0bfb242e",
   "metadata": {},
   "outputs": [
    {
     "name": "stdout",
     "output_type": "stream",
     "text": [
      "Enter number of rows :5\n",
      "0 1 2 3 4 5 \n",
      "0 2 3 4 5 \n",
      "0 3 4 5 \n",
      "0 4 5 \n",
      "0 5 \n"
     ]
    }
   ],
   "source": [
    "n = int(input(\"Enter number of rows :\"))\n",
    "f = 0\n",
    "for i in range(n):\n",
    "    print(f,end = \" \")\n",
    "    for j in range(i+1,n+1):\n",
    "        print(j,end = \" \")\n",
    "    print()"
   ]
  },
  {
   "cell_type": "markdown",
   "id": "088d3018",
   "metadata": {},
   "source": [
    "## 7. Pyramid of Natural Numbers Less Than 10"
   ]
  },
  {
   "cell_type": "code",
   "execution_count": 10,
   "id": "b3df7bbf",
   "metadata": {},
   "outputs": [
    {
     "name": "stdout",
     "output_type": "stream",
     "text": [
      "1 \n",
      "2 3 4 \n",
      "5 6 7 8 9 \n"
     ]
    }
   ],
   "source": [
    "n = 1\n",
    "for i in range(1,6,2):\n",
    "    for j in range(1,i+1):\n",
    "        print(n,end = \" \")\n",
    "        n += 1\n",
    "    print()\n",
    "        "
   ]
  },
  {
   "cell_type": "markdown",
   "id": "3842675d",
   "metadata": {},
   "source": [
    "## 8. Python Program to calculate Sum of Series 1²+2²+3²+….+n²"
   ]
  },
  {
   "cell_type": "code",
   "execution_count": 13,
   "id": "3bf43130",
   "metadata": {},
   "outputs": [
    {
     "name": "stdout",
     "output_type": "stream",
     "text": [
      "Enter Number : 5\n",
      "1^2 + 2^2 + 3^2 + 4^2 + 5^2 + :  55\n"
     ]
    }
   ],
   "source": [
    "n = int(input(\"Enter Number : \"))\n",
    "sum1 = 0\n",
    "for i in range(1,n+1):\n",
    "    print(\"{}^2\".format(i),\"+\",end = \" \")\n",
    "    sum1 = sum1 + i**2\n",
    "print(\": \",sum1)\n",
    "    "
   ]
  },
  {
   "cell_type": "markdown",
   "id": "f7bf373a",
   "metadata": {},
   "source": [
    "## 9. Python Program to check number is palindrome or not using While  Loop"
   ]
  },
  {
   "cell_type": "code",
   "execution_count": null,
   "id": "99160cb6",
   "metadata": {},
   "outputs": [],
   "source": [
    "n = int(input(\"Enter number :\"))\n",
    "while n != 0:\n",
    "    \n",
    "    "
   ]
  },
  {
   "cell_type": "markdown",
   "id": "5ad70a49",
   "metadata": {},
   "source": [
    "## 10. Python Program to display Natural Numbers within a range using while loop"
   ]
  },
  {
   "cell_type": "code",
   "execution_count": 18,
   "id": "34aa9a2f",
   "metadata": {},
   "outputs": [
    {
     "name": "stdout",
     "output_type": "stream",
     "text": [
      "Enter range 5\n",
      "1\n",
      "2\n",
      "3\n",
      "4\n",
      "5\n"
     ]
    }
   ],
   "source": [
    "n = int(input(\"Enter range \"))\n",
    "num = 1\n",
    "while num <= n:\n",
    "    print(num)\n",
    "    num += 1"
   ]
  },
  {
   "cell_type": "markdown",
   "id": "71fddbb5",
   "metadata": {},
   "source": [
    "## 11. Python Program to Sort List in Ascending Order without using Sort.\n",
    "    a. Using for loop\n",
    "    b. Using while loop\n"
   ]
  },
  {
   "cell_type": "code",
   "execution_count": 17,
   "id": "f4f012f4",
   "metadata": {},
   "outputs": [
    {
     "name": "stdout",
     "output_type": "stream",
     "text": [
      "[1, 2, 3, 4, 5, 5, 7, 8]\n"
     ]
    }
   ],
   "source": [
    "# using for loop\n",
    "list1 = [1,4,2,5,3,7,8,5]\n",
    "for i in range(len(list1)-1):\n",
    "    for j in range(i+1,len(list1)):\n",
    "        if list1[i] > list1[j]:\n",
    "            list1[i],list1[j] = list1[j],list1[i]\n",
    "print(list1)"
   ]
  },
  {
   "cell_type": "code",
   "execution_count": 25,
   "id": "2842122b",
   "metadata": {},
   "outputs": [
    {
     "name": "stdout",
     "output_type": "stream",
     "text": [
      "Enter Number : 1346\n",
      "<class 'str'>\n",
      "1346\n",
      "<class 'int'>\n"
     ]
    }
   ],
   "source": [
    "str1 = input(\"Enter Number : \")\n",
    "\n",
    "\n",
    "# for i in str1:\n",
    "#     if \n",
    "    "
   ]
  },
  {
   "cell_type": "markdown",
   "id": "c70900b7",
   "metadata": {},
   "source": [
    "## 14. Python Program For Armstrong Number\n",
    "Example of Armstrong number:\n",
    "Individual digits in 370 = 3\n",
    "370 = 3³ + 7³ + 0³= 27 + 343 + 0 = 370"
   ]
  },
  {
   "cell_type": "code",
   "execution_count": 18,
   "id": "e389666f",
   "metadata": {},
   "outputs": [
    {
     "name": "stdout",
     "output_type": "stream",
     "text": [
      "Enter Number : 370\n",
      "3^3 + 7^3 + 0^3 +  : 370\n"
     ]
    }
   ],
   "source": [
    "n = input(\"Enter Number : \")\n",
    "sum1 = 0\n",
    "if n.isdigit() == True:\n",
    "    for i in range(len(n)):\n",
    "        sum1 = sum1 + int(n[i])**3\n",
    "        print(\"{}^3 +\".format(n[i]),end = \" \")\n",
    "    print(\" :\",sum1)\n",
    "else:\n",
    "    print(\"Enter Number\")\n",
    "\n",
    "\n"
   ]
  },
  {
   "cell_type": "markdown",
   "id": "5c9ad74d",
   "metadata": {},
   "source": [
    "## 13. Python Program to Count Number of Digits in a Number using While Loop\n",
    "Example : Individual digits in 370 = 3"
   ]
  },
  {
   "cell_type": "code",
   "execution_count": 3,
   "id": "f86c6b9e",
   "metadata": {},
   "outputs": [
    {
     "name": "stdout",
     "output_type": "stream",
     "text": [
      "Enter Number : 85245\n",
      "5\n"
     ]
    }
   ],
   "source": [
    "n = 1\n",
    "while n != 0:\n",
    "    num = input(\"Enter Number : \")\n",
    "    if num.isdigit() == True:\n",
    "        print(len(num))\n",
    "        n -= 1\n",
    "    else:\n",
    "        print(\"Enter Number.\")\n",
    "    "
   ]
  },
  {
   "cell_type": "markdown",
   "id": "1c024a31",
   "metadata": {},
   "source": [
    "## 12. Python Fibonacci Series program using While Loop."
   ]
  },
  {
   "cell_type": "code",
   "execution_count": 3,
   "id": "69e09863",
   "metadata": {},
   "outputs": [
    {
     "name": "stdout",
     "output_type": "stream",
     "text": [
      "Enter number :5\n",
      "0\n",
      "1\n",
      "1\n",
      "2\n",
      "3\n"
     ]
    }
   ],
   "source": [
    "n = int(input(\"Enter number :\"))\n",
    "i = 0\n",
    "n1 = 0\n",
    "n2 = 1\n",
    "if n == 0:\n",
    "    print(\"invalid input\")\n",
    "elif n == 1:\n",
    "    print(n1)\n",
    "else:\n",
    "    while i < n :\n",
    "        print(n1)\n",
    "        n3 = n2 + n1\n",
    "        n1 = n2\n",
    "        n2 = n3\n",
    "        i += 1"
   ]
  },
  {
   "cell_type": "markdown",
   "id": "ffb553ee",
   "metadata": {},
   "source": [
    "## Pattern 1: floyd's triangle "
   ]
  },
  {
   "cell_type": "code",
   "execution_count": 4,
   "id": "c135eab7",
   "metadata": {},
   "outputs": [
    {
     "name": "stdout",
     "output_type": "stream",
     "text": [
      "Enter number :7\n",
      "1 \n",
      "2 3 \n",
      "4 5 6 \n",
      "7 8 9 10 \n",
      "11 12 13 14 15 \n",
      "16 17 18 19 20 21 \n",
      "22 23 24 25 26 27 28 \n"
     ]
    }
   ],
   "source": [
    "# floyd's triangle\n",
    "n = int(input(\"Enter number :\"))\n",
    "num = 1\n",
    "for i in range(1,n+1):\n",
    "    for j in range(1,i+1):\n",
    "        print(num, end = \" \")\n",
    "        num += 1\n",
    "    print()"
   ]
  },
  {
   "cell_type": "markdown",
   "id": "19feccb9",
   "metadata": {},
   "source": [
    "## pattern 3"
   ]
  },
  {
   "cell_type": "code",
   "execution_count": 3,
   "id": "92848c83",
   "metadata": {},
   "outputs": [
    {
     "name": "stdout",
     "output_type": "stream",
     "text": [
      "Enter no. of rows : 5\n",
      "*\n",
      "* 1 *\n",
      "* 1 2 1 *\n",
      "* 1 2 3 2 1 *\n",
      "* 1 2 3 4 3 2 1 *\n",
      "* 1 2 3 2 1 *\n",
      "* 1 2 1 *\n",
      "* 1 *\n",
      "*\n"
     ]
    }
   ],
   "source": [
    "n = int(input(\"Enter no. of rows : \"))\n",
    "f_star = 0\n",
    "f1_star = 1\n",
    "\n",
    "for i in range(1,n+1):\n",
    "    num = 0\n",
    "    for j in range(f_star):\n",
    "        print(\"*\",end = \" \")\n",
    "    for k in range(i-1):\n",
    "        num += 1\n",
    "        print(num,end = \" \")\n",
    "\n",
    "    for l in range(i-2):\n",
    "        num -= 1\n",
    "        print(num,end = \" \")\n",
    "    print(\"*\")\n",
    "    f_star = 1\n",
    "    \n",
    "for i in range(n,1,-1):\n",
    "    num1 = 0\n",
    "    if i == 2:\n",
    "        print(end = \"\")\n",
    "    else:\n",
    "        print(\"*\",end = \" \")\n",
    "    for k in range(i-2):\n",
    "        num1 += 1\n",
    "        print(num1,end = \" \")\n",
    "    for l in range(i-3):\n",
    "        num1 -= 1\n",
    "        print(num1,end = \" \")\n",
    "    print(\"*\")\n",
    "    \n",
    "    "
   ]
  },
  {
   "cell_type": "markdown",
   "id": "ca9c5049",
   "metadata": {},
   "source": [
    "## Pattern 4: Hollow Diamond"
   ]
  },
  {
   "cell_type": "code",
   "execution_count": 17,
   "id": "ad853ce5",
   "metadata": {},
   "outputs": [
    {
     "name": "stdout",
     "output_type": "stream",
     "text": [
      "Enter no.of rows :5\n",
      "        *\n",
      "      *   *\n",
      "    *       *\n",
      "  *           *\n",
      "*               *\n",
      "  *           *\n",
      "    *       *\n",
      "      *   *\n",
      "        *\n"
     ]
    }
   ],
   "source": [
    "n = int(input(\"Enter no.of rows :\"))\n",
    "for i in range(1,n+1):\n",
    "    for j in range(n-i,0,-1):\n",
    "        print(\" \",end = \" \")\n",
    "    if i == 1:\n",
    "        print(end = \"\")\n",
    "    else:\n",
    "        print(\"*\",end = \" \")\n",
    "        for k in range(1,2*(i-1)):\n",
    "            print(\" \",end = \" \")\n",
    "    print(\"*\")\n",
    "\n",
    "for i in range(n-1,0,-1):\n",
    "    for j in range(n-i):\n",
    "        print(\" \",end = \" \")\n",
    "    if i == 1:\n",
    "        print(end= \"\")\n",
    "    else:\n",
    "        print(\"*\",end = \" \")\n",
    "        for k in range(2*(i-1),1,-1):\n",
    "            print(\" \",end = \" \")\n",
    "    print(\"*\")"
   ]
  },
  {
   "cell_type": "markdown",
   "id": "3bf87140",
   "metadata": {},
   "source": [
    "## Pattern 5"
   ]
  },
  {
   "cell_type": "code",
   "execution_count": 5,
   "id": "203b7727",
   "metadata": {},
   "outputs": [
    {
     "name": "stdout",
     "output_type": "stream",
     "text": [
      "Enter no.of rows :5\n",
      "* * * * * * * * * * \n",
      "* * * *     * * * * \n",
      "* * *         * * * \n",
      "* *             * * \n",
      "*                 * \n",
      "*                 * \n",
      "* *             * * \n",
      "* * *         * * * \n",
      "* * * *     * * * * \n",
      "* * * * * * * * * * \n"
     ]
    }
   ],
   "source": [
    "n = int(input(\"Enter no.of rows :\"))\n",
    "for i in range(n):\n",
    "    for k in range(n,i,-1):\n",
    "        print(\"*\",end = \" \")\n",
    "    for j in range(0,i*2):\n",
    "        print(\" \",end = \" \")\n",
    "#     for l in range(0,i):\n",
    "#         print(\" \",end = \" \")\n",
    "    for m in range(n,i,-1):\n",
    "        print(\"*\",end = \" \")\n",
    "    print()\n",
    "for i in range(n-1,-1,-1):\n",
    "    for c in range(n,i,-1):\n",
    "        print(\"*\",end = \" \")\n",
    "    for a in range(0,i*2):\n",
    "        print(\" \",end = \" \")\n",
    "    for b in range(n,i,-1):\n",
    "        print(\"*\",end = \" \")\n",
    "    print()"
   ]
  },
  {
   "cell_type": "markdown",
   "id": "eee78754",
   "metadata": {},
   "source": [
    "## Pattern 2: Pascal's Triangle"
   ]
  },
  {
   "cell_type": "code",
   "execution_count": 30,
   "id": "9d732a35",
   "metadata": {},
   "outputs": [
    {
     "name": "stdout",
     "output_type": "stream",
     "text": [
      "Enter no. of rows: 5\n",
      "[[1], [1, 1], [1, 2, 1], [1, 3, 3, 1], [1, 4, 6, 4, 1]]\n",
      "1 \n",
      "1 1 \n",
      "1 2 1 \n",
      "1 3 3 1 \n",
      "1 4 6 4 1 \n"
     ]
    }
   ],
   "source": [
    "n = int(input(\"Enter no. of rows: \"))\n",
    "list1 = []\n",
    "\n",
    "for i in range(n):\n",
    "    list1.append([])\n",
    "    list1[i].append(1)\n",
    "    for j in range(1,i):\n",
    "        list1[i].append(list1[i-1][j-1] + list1[i-1][j])\n",
    "    if i > 0:\n",
    "        for k in range(i-(i-1)):\n",
    "            list1[i].append(1)\n",
    "print(list1)\n",
    "for i in range(len(list1)):\n",
    "    for j in list1[i]:\n",
    "        print(j,end = \" \")\n",
    "    print()"
   ]
  },
  {
   "cell_type": "code",
   "execution_count": null,
   "id": "a3b3e19d",
   "metadata": {},
   "outputs": [],
   "source": []
  }
 ],
 "metadata": {
  "kernelspec": {
   "display_name": "Python 3",
   "language": "python",
   "name": "python3"
  },
  "language_info": {
   "codemirror_mode": {
    "name": "ipython",
    "version": 3
   },
   "file_extension": ".py",
   "mimetype": "text/x-python",
   "name": "python",
   "nbconvert_exporter": "python",
   "pygments_lexer": "ipython3",
   "version": "3.8.8"
  }
 },
 "nbformat": 4,
 "nbformat_minor": 5
}
