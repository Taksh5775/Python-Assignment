{
 "cells": [
  {
   "cell_type": "code",
   "execution_count": null,
   "id": "27d88f03",
   "metadata": {},
   "outputs": [
    {
     "name": "stdout",
     "output_type": "stream",
     "text": [
      "Enter Key : 6\n",
      "Enter Value: iop\n",
      "{1: 'taksh', 2: 'kishan', 3: 'dhruv', 4: 'krishna', 5: 'tax', 6: 'iop'}\n",
      "Enter Key : 6\n",
      "Enter Value: opl\n",
      "{1: 'taksh', 2: 'kishan', 3: 'dhruv', 4: 'krishna', 5: 'tax', 6: 'opl'}\n"
     ]
    }
   ],
   "source": [
    "students = {1:'taksh', 2:'kishan', 3:'dhruv', 4:'krishna', 5:'tax'}\n",
    "n = 0\n",
    "while n != -1:\n",
    "    key = int(input(\"Enter Key : \"))\n",
    "    value = input(\"Enter Value: \")\n",
    "    students[key] = value\n",
    "    print(students)"
   ]
  },
  {
   "cell_type": "code",
   "execution_count": null,
   "id": "f632da09",
   "metadata": {},
   "outputs": [
    {
     "name": "stdout",
     "output_type": "stream",
     "text": [
      "Enter Key : 5\n",
      "tax\n"
     ]
    }
   ],
   "source": [
    "students = {1:'taksh', 2:'kishan', 3:'dhruv', 4:'krishna', 5:'tax'}\n",
    "key = 0\n",
    "while key != -1:\n",
    "    key = int(input(\"Enter Key : \"))\n",
    "    if key in students.keys():\n",
    "         print(students[key])\n",
    "#         else:\n",
    "#             print(\"key is not in dictionary.\")\n",
    "#     students[key] = value\n",
    "#     print(students)"
   ]
  },
  {
   "cell_type": "code",
   "execution_count": 18,
   "id": "fd281f29",
   "metadata": {},
   "outputs": [
    {
     "name": "stdout",
     "output_type": "stream",
     "text": [
      "Enter String : i am taksh i am i am\n",
      "{'taksh': 1, 'i': 3, 'am': 3}\n"
     ]
    }
   ],
   "source": [
    "dict2 = {}\n",
    "str1 = input(\"Enter String : \")\n",
    "words = str1.split()\n",
    "keys = set(words)\n",
    "for w in keys:\n",
    "    dict2[w] = words.count(w)\n",
    "print(dict2)"
   ]
  },
  {
   "cell_type": "markdown",
   "id": "b5665d0e",
   "metadata": {},
   "source": [
    "## 1. Python example to add Key-Value Pair to a Dictionary\n"
   ]
  },
  {
   "cell_type": "code",
   "execution_count": 1,
   "id": "5366e557",
   "metadata": {},
   "outputs": [
    {
     "data": {
      "text/plain": [
       "{1: 'taksh'}"
      ]
     },
     "execution_count": 1,
     "metadata": {},
     "output_type": "execute_result"
    }
   ],
   "source": [
    "dict1 = {}\n",
    "dict1[1] = 'taksh'\n",
    "dict1"
   ]
  },
  {
   "cell_type": "markdown",
   "id": "9bb5df32",
   "metadata": {},
   "source": [
    "## 2. Python program to Check if a Given key exists in a Dictionary\n"
   ]
  },
  {
   "cell_type": "code",
   "execution_count": 2,
   "id": "6f0da80d",
   "metadata": {},
   "outputs": [
    {
     "name": "stdout",
     "output_type": "stream",
     "text": [
      "Enter Key : 4\n",
      "key exists\n",
      "Enter Key : 5\n",
      "key exists\n",
      "Enter Key : -1\n",
      "key does not exists.\n"
     ]
    }
   ],
   "source": [
    "students = {1:'taksh', 2:'kishan', 3:'dhruv', 4:'krishna', 5:'tax'}\n",
    "key = 0\n",
    "while key != -1:\n",
    "    key = int(input(\"Enter Key : \"))\n",
    "    if key in students.keys():\n",
    "         print(\"key exists\")\n",
    "    else:\n",
    "        print(\"key does not exists.\")"
   ]
  },
  {
   "cell_type": "markdown",
   "id": "4972b1fa",
   "metadata": {},
   "source": [
    "## 3. Python program to Count words in a String using Dictionary\n"
   ]
  },
  {
   "cell_type": "code",
   "execution_count": 4,
   "id": "a864fbe5",
   "metadata": {},
   "outputs": [
    {
     "name": "stdout",
     "output_type": "stream",
     "text": [
      "Enter String : i am taksh i am krishna i am dhruv you are kishan\n",
      "{'i': 3, 'am': 3, 'taksh': 1, 'krishna': 1, 'dhruv': 1, 'you': 1, 'are': 1, 'kishan': 1}\n"
     ]
    }
   ],
   "source": [
    "dict1 = {}\n",
    "str1 = input(\"Enter String : \")\n",
    "words = str1.split()\n",
    "key = []\n",
    "for i in words:\n",
    "    if i not in key:\n",
    "        key.append(i)\n",
    "for w in key:\n",
    "    dict1[w] = words.count(w)\n",
    "print(dict1)"
   ]
  },
  {
   "cell_type": "markdown",
   "id": "b2a1d243",
   "metadata": {},
   "source": [
    "## 4. Python program to Create Dictionary of keys from 1 to n and values are square of keys\n"
   ]
  },
  {
   "cell_type": "code",
   "execution_count": 5,
   "id": "9b751f82",
   "metadata": {},
   "outputs": [
    {
     "name": "stdout",
     "output_type": "stream",
     "text": [
      "Enter no. of keys : 6\n"
     ]
    },
    {
     "data": {
      "text/plain": [
       "{1: 1, 2: 4, 3: 9, 4: 16, 5: 25, 6: 36}"
      ]
     },
     "execution_count": 5,
     "metadata": {},
     "output_type": "execute_result"
    }
   ],
   "source": [
    "dict3 = {}\n",
    "num = int(input(\"Enter no. of keys : \"))\n",
    "for i in range(1,num+1):\n",
    "    dict3[i] = i**2\n",
    "dict3"
   ]
  },
  {
   "cell_type": "markdown",
   "id": "7471e24c",
   "metadata": {},
   "source": [
    "## 5. Python program to Create Dictionary of Numbers 1 to n in (x, x*x) form\n"
   ]
  },
  {
   "cell_type": "code",
   "execution_count": 3,
   "id": "9a4e598f",
   "metadata": {},
   "outputs": [
    {
     "name": "stdout",
     "output_type": "stream",
     "text": [
      "Enter no. of keys : 6\n",
      "(1, 1) (2, 4) (3, 9) (4, 16) (5, 25) (6, 36) "
     ]
    }
   ],
   "source": [
    "dict3 = {}\n",
    "num = int(input(\"Enter no. of keys : \"))\n",
    "for i in range(1,num+1):\n",
    "    dict3[i] = i*i   \n",
    "for k in dict3.items():\n",
    "    print(k,end = \" \")"
   ]
  },
  {
   "cell_type": "markdown",
   "id": "840ffde0",
   "metadata": {},
   "source": [
    "## 6. Python program to Map two lists into a Dictionary\n"
   ]
  },
  {
   "cell_type": "code",
   "execution_count": 8,
   "id": "6825f0d4",
   "metadata": {},
   "outputs": [
    {
     "data": {
      "text/plain": [
       "{1: 'tax', 2: 'dhruv', 3: 'kishan', 4: 'kri', 5: 'shna'}"
      ]
     },
     "execution_count": 8,
     "metadata": {},
     "output_type": "execute_result"
    }
   ],
   "source": [
    "dict1 = {}\n",
    "key = [1,2,3,4,5]\n",
    "value = ['tax','dhruv','kishan','kri','shna']\n",
    "for k,v in zip(key,value):\n",
    "    dict1[k] = v\n",
    "dict1"
   ]
  },
  {
   "cell_type": "markdown",
   "id": "597a0568",
   "metadata": {},
   "source": [
    "## 7. Python program to Merge Two Dictionaries\n"
   ]
  },
  {
   "cell_type": "code",
   "execution_count": 10,
   "id": "7bd3a7a6",
   "metadata": {},
   "outputs": [
    {
     "name": "stdout",
     "output_type": "stream",
     "text": [
      "{1: 'taksh', 2: 'kishan', 3: 'dhruv', 4: 'krishna', 5: 'tax', 6: 'ram', 7: 'vishal'}\n"
     ]
    }
   ],
   "source": [
    "students = {1:'taksh', 2:'kishan', 3:'dhruv', 4:'krishna', 5:'tax'}\n",
    "dict2 = {6:'ram',7:'vishal'}\n",
    "students.update(dict2)\n",
    "print(students)"
   ]
  },
  {
   "cell_type": "markdown",
   "id": "bd673890",
   "metadata": {},
   "source": [
    "## 8. Python program to Multiply All Items in a Dictionary\n"
   ]
  },
  {
   "cell_type": "code",
   "execution_count": 11,
   "id": "e17a8374",
   "metadata": {},
   "outputs": [
    {
     "name": "stdout",
     "output_type": "stream",
     "text": [
      "120\n"
     ]
    }
   ],
   "source": [
    "students = {1:'taksh', 2:'kishan', 3:'dhruv', 4:'krishna', 5:'tax'}\n",
    "key = 1\n",
    "for k,v in students.items():\n",
    "    key = key*k\n",
    "print(key)    "
   ]
  },
  {
   "cell_type": "markdown",
   "id": "53c0b6da",
   "metadata": {},
   "source": [
    "## 9. Python program to Remove Given Key from a Dictionary\n"
   ]
  },
  {
   "cell_type": "code",
   "execution_count": 12,
   "id": "20fd551d",
   "metadata": {},
   "outputs": [
    {
     "name": "stdout",
     "output_type": "stream",
     "text": [
      "Enter key :4\n",
      "{1: 'taksh', 2: 'kishan', 3: 'dhruv', 5: 'tax'}\n"
     ]
    }
   ],
   "source": [
    "students = {1:'taksh', 2:'kishan', 3:'dhruv', 4:'krishna', 5:'tax'}\n",
    "key = int(input(\"Enter key :\"))\n",
    "if key in students.keys():\n",
    "    del students[key]\n",
    "print(students)"
   ]
  },
  {
   "cell_type": "markdown",
   "id": "8c406b65",
   "metadata": {},
   "source": [
    "## 10. Python program to find Sum of Items in a Dictionary."
   ]
  },
  {
   "cell_type": "code",
   "execution_count": 15,
   "id": "25b22087",
   "metadata": {},
   "outputs": [
    {
     "name": "stdout",
     "output_type": "stream",
     "text": [
      "{15: 150}\n"
     ]
    }
   ],
   "source": [
    "students = {1:10, 2:20, 3:30, 4:40, 5:50}\n",
    "sum1 = {}\n",
    "k_sum = 0\n",
    "v_sum = 0\n",
    "for k,v in students.items():\n",
    "    k_sum += k\n",
    "    v_sum += v\n",
    "sum1[k_sum] = v_sum\n",
    "print(sum1)"
   ]
  },
  {
   "cell_type": "code",
   "execution_count": 1,
   "id": "1316b21a",
   "metadata": {},
   "outputs": [
    {
     "name": "stdout",
     "output_type": "stream",
     "text": [
      "(1, 'taksh')\n",
      "(2, 'kishan')\n",
      "(3, 'dhruv')\n",
      "(4, 'krishna')\n",
      "(5, 'tax')\n"
     ]
    }
   ],
   "source": [
    "students = {1:'taksh', 2:'kishan', 3:'dhruv', 4:'krishna', 5:'tax'}\n",
    "for k in students.items():\n",
    "    print(k)"
   ]
  },
  {
   "cell_type": "code",
   "execution_count": 4,
   "id": "43a12559",
   "metadata": {},
   "outputs": [
    {
     "name": "stdout",
     "output_type": "stream",
     "text": [
      "1 taksh\n",
      "2 kishan\n",
      "3 dhruv\n",
      "4 krishna\n",
      "5 tax\n"
     ]
    }
   ],
   "source": [
    "students = {1:'taksh', 2:'kishan', 3:'dhruv', 4:'krishna', 5:'tax'}\n",
    "for k,v in students.items():\n",
    "    print(k,v)"
   ]
  },
  {
   "cell_type": "code",
   "execution_count": null,
   "id": "928c157a",
   "metadata": {},
   "outputs": [],
   "source": []
  }
 ],
 "metadata": {
  "kernelspec": {
   "display_name": "Python 3",
   "language": "python",
   "name": "python3"
  },
  "language_info": {
   "codemirror_mode": {
    "name": "ipython",
    "version": 3
   },
   "file_extension": ".py",
   "mimetype": "text/x-python",
   "name": "python",
   "nbconvert_exporter": "python",
   "pygments_lexer": "ipython3",
   "version": "3.8.8"
  }
 },
 "nbformat": 4,
 "nbformat_minor": 5
}
