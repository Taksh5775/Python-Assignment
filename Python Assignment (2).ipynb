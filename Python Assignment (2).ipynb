{
 "cells": [
  {
   "cell_type": "markdown",
   "id": "63fb45c0",
   "metadata": {},
   "source": [
    "## Module 2"
   ]
  },
  {
   "cell_type": "markdown",
   "id": "dfb745e7",
   "metadata": {},
   "source": [
    "## 1. Write a Python program to check if a number is positive, negative or zero."
   ]
  },
  {
   "cell_type": "code",
   "execution_count": 10,
   "id": "595e37fb",
   "metadata": {},
   "outputs": [
    {
     "name": "stdout",
     "output_type": "stream",
     "text": [
      "enter the number :0\n",
      "number is zero\n"
     ]
    }
   ],
   "source": [
    "a=float(input(\"enter the number :\"))\n",
    "if a > 0:\n",
    "    print(\"number is positive\")\n",
    "elif a == 0:\n",
    "    print(\"number is zero\")\n",
    "else:\n",
    "    print(\"number is negative\")"
   ]
  },
  {
   "cell_type": "markdown",
   "id": "f6868f0e",
   "metadata": {},
   "source": [
    "## 2. Write a Python program to get the Factorial number of given number. 2."
   ]
  },
  {
   "cell_type": "code",
   "execution_count": 15,
   "id": "0fafa3ca",
   "metadata": {},
   "outputs": [
    {
     "name": "stdout",
     "output_type": "stream",
     "text": [
      "enter number :6\n",
      "The factorial of 6 is 720\n"
     ]
    }
   ],
   "source": [
    "b=int(input(\"enter number :\"))  \n",
    "f = 1    \n",
    "for i in range(1,b + 1):    \n",
    "    f = f*i    \n",
    "print(f\"The factorial of {b} is {f}\")   \n",
    "    "
   ]
  },
  {
   "cell_type": "markdown",
   "id": "815652d4",
   "metadata": {},
   "source": [
    "## 3. Write a Python program to get the Fibonacci series of given range.\n"
   ]
  },
  {
   "cell_type": "code",
   "execution_count": 39,
   "id": "86cbcb17",
   "metadata": {
    "scrolled": false
   },
   "outputs": [
    {
     "name": "stdout",
     "output_type": "stream",
     "text": [
      "enter number : 10\n",
      "0\n",
      "1\n",
      "1\n",
      "2\n",
      "3\n",
      "5\n",
      "8\n",
      "13\n",
      "21\n",
      "34\n"
     ]
    }
   ],
   "source": [
    "n = int(input(\"enter number : \"))\n",
    "n1 = 0\n",
    "n2 = 1\n",
    "for i in range(0,n):\n",
    "        print(n1)\n",
    "        n3 = n1 + n2       \n",
    "        n1 = n2\n",
    "        n2 = n3\n",
    "        "
   ]
  },
  {
   "cell_type": "markdown",
   "id": "351bef64",
   "metadata": {},
   "source": [
    "## 4. How memory is managed in Python?"
   ]
  },
  {
   "cell_type": "markdown",
   "id": "d0ba2871",
   "metadata": {},
   "source": [
    "* Python memory is managed by Python private heap space.\n",
    "* All Python objects and data structures are located in a private heap.\n",
    "* The programmer does not have access to this private heap and interpreter takes care of this Python private heap.\n",
    "* The allocation of Python heap space for Python objects is done by the Python memory manager. The core API gives access to some\n",
    "  tools for the programmer to code.\n",
    "* Python also has an inbuilt garbage collector, which recycle all the unused memory and frees the memory and makes it available\n",
    "  to the heap space.\n"
   ]
  },
  {
   "cell_type": "markdown",
   "id": "b64b7746",
   "metadata": {},
   "source": [
    "## 5.  What is the purpose continue statement in python?"
   ]
  },
  {
   "cell_type": "markdown",
   "id": "27a32536",
   "metadata": {},
   "source": [
    "* Continue statement is a loop control statement that forces to execute the next iteration of the loop while skipping the rest \n",
    "  of the code inside the loop for the current iteration only i.e. when the continue statement is executed in the loop, the code \n",
    "  inside the loop following the continue statement will be skipped for the current iteration and the next iteration of the loop \n",
    "  will begin."
   ]
  },
  {
   "cell_type": "markdown",
   "id": "6dea3965",
   "metadata": {},
   "source": [
    "## 6. Write python program that swap two number with temp variable and without temp variable."
   ]
  },
  {
   "cell_type": "code",
   "execution_count": 10,
   "id": "685e6311",
   "metadata": {},
   "outputs": [
    {
     "name": "stdout",
     "output_type": "stream",
     "text": [
      "enter value of a : 2\n",
      "enter value of b : 3\n",
      "value of a is : 3\n",
      "value of b is : 2\n",
      "value of a is 2\n",
      "value of b is 3\n"
     ]
    }
   ],
   "source": [
    "a = input(\"enter value of a : \")\n",
    "b = input(\"enter value of b : \")\n",
    "\n",
    "#with temp\n",
    "temp = a\n",
    "a = b\n",
    "b = temp\n",
    "print(\"value of a is :\",a)\n",
    "print(\"value of b is :\",b)\n",
    "\n",
    "#without temp\n",
    "a,b = b,a\n",
    "print(f\"value of a is {a}\")\n",
    "print(f\"value of b is {b}\")"
   ]
  },
  {
   "cell_type": "markdown",
   "id": "b87e42fb",
   "metadata": {},
   "source": [
    "## 7. Write a Python program to find whether a given number is even or odd, print out an appropriate message to the user."
   ]
  },
  {
   "cell_type": "code",
   "execution_count": 8,
   "id": "18ed5e71",
   "metadata": {},
   "outputs": [
    {
     "name": "stdout",
     "output_type": "stream",
     "text": [
      "Enter a number: 8\n",
      "8 is Even\n"
     ]
    }
   ],
   "source": [
    "num = int(input(\"Enter a number: \"))\n",
    "if (num % 2) == 0:\n",
    "    print(f\"{num} is Even\")\n",
    "else:\n",
    "    print(f\"{num} is Odd\")"
   ]
  },
  {
   "cell_type": "markdown",
   "id": "e3565e78",
   "metadata": {},
   "source": [
    "## 8. Write a Python program to test whether a passed letter is a vowel or not."
   ]
  },
  {
   "cell_type": "code",
   "execution_count": 4,
   "id": "69d17386",
   "metadata": {},
   "outputs": [
    {
     "name": "stdout",
     "output_type": "stream",
     "text": [
      "enter alphabet : b\n",
      "b is not vowel\n"
     ]
    }
   ],
   "source": [
    "c = str(input(\"enter alphabet : \"))\n",
    "l = ['a','e','i','o','u','A','E','I','O','U']\n",
    "if c in l:\n",
    "    print(f\"{c} is vowel\")\n",
    "else:\n",
    "    print(f\"{c} is not vowel\")"
   ]
  },
  {
   "cell_type": "markdown",
   "id": "afe63204",
   "metadata": {},
   "source": [
    "## 9. Write a Python program to sum of three given integers.However, if two values are equal sum will be zero."
   ]
  },
  {
   "cell_type": "code",
   "execution_count": 5,
   "id": "f2306475",
   "metadata": {},
   "outputs": [
    {
     "name": "stdout",
     "output_type": "stream",
     "text": [
      "enter value of a :2\n",
      "enter value of b :2\n",
      "enter value of c :3\n",
      "sum is  0\n"
     ]
    }
   ],
   "source": [
    "a = int(input(\"enter value of a :\"))\n",
    "b = int(input(\"enter value of b :\"))\n",
    "c = int(input(\"enter value of c :\"))\n",
    "sum = 0\n",
    "if a == b or b ==c or c == a:\n",
    "    print(\"sum is \",sum)\n",
    "else:\n",
    "    sum = a + b + c \n",
    "    print(f\"sum of three integer is {sum}\")"
   ]
  },
  {
   "cell_type": "markdown",
   "id": "dd84dd99",
   "metadata": {},
   "source": [
    "## 10. Write a Python program that will return true if the two given integer values are equal or their sum or difference is 5."
   ]
  },
  {
   "cell_type": "code",
   "execution_count": 8,
   "id": "d1eb74c7",
   "metadata": {},
   "outputs": [
    {
     "name": "stdout",
     "output_type": "stream",
     "text": [
      "enter value of a :10\n",
      "enter value of b :5\n",
      "true\n"
     ]
    }
   ],
   "source": [
    "a = int(input(\"enter value of a :\"))\n",
    "b = int(input(\"enter value of b :\"))\n",
    "if (a == b) or (a + b == 5) or (a - b == 5):\n",
    "    print(\"true\")\n",
    "else:\n",
    "    print(\"false\")"
   ]
  },
  {
   "cell_type": "markdown",
   "id": "aac99fad",
   "metadata": {},
   "source": [
    "## 11. Write a python program to sum of the first n positive integers."
   ]
  },
  {
   "cell_type": "code",
   "execution_count": 14,
   "id": "358dadf1",
   "metadata": {},
   "outputs": [
    {
     "name": "stdout",
     "output_type": "stream",
     "text": [
      "enter number :8\n",
      "36\n"
     ]
    }
   ],
   "source": [
    "n = int(input(\"enter number :\"))\n",
    "sum = 0\n",
    "for i in range(1,n+1):\n",
    "    sum = sum + i\n",
    "print(sum)"
   ]
  },
  {
   "cell_type": "markdown",
   "id": "516df2c0",
   "metadata": {},
   "source": [
    "## 12. Write a Python program to calculate the length of a string."
   ]
  },
  {
   "cell_type": "code",
   "execution_count": 3,
   "id": "ee3e7ab7",
   "metadata": {},
   "outputs": [
    {
     "name": "stdout",
     "output_type": "stream",
     "text": [
      "enter string : hello\n",
      "length of the string is  5\n",
      "Enter String : taksh lakhani\n",
      "length of the string is : 13\n"
     ]
    }
   ],
   "source": [
    "# without function\n",
    "n = input(\"enter string : \")\n",
    "c = 0\n",
    "for i in n:\n",
    "    c+=1\n",
    "print(\"length of the string is \",c)\n",
    "\n",
    "# with function\n",
    "str1 = input(\"Enter String : \")\n",
    "print(f\"length of the string is : {len(str1)}\")"
   ]
  },
  {
   "cell_type": "markdown",
   "id": "f57df27b",
   "metadata": {},
   "source": [
    "## 13. Write a Python program to count the number of characters (character frequency) in a string\n"
   ]
  },
  {
   "cell_type": "code",
   "execution_count": 5,
   "id": "364d1d6d",
   "metadata": {
    "scrolled": true
   },
   "outputs": [
    {
     "name": "stdout",
     "output_type": "stream",
     "text": [
      "Enter String : taksh lakhani\n",
      "Enter character which we want to count :a\n",
      "a is 3 times in taksh lakhani\n"
     ]
    }
   ],
   "source": [
    "str1 = input(\"Enter String : \")\n",
    "check = input(\"Enter character which we want to count :\")\n",
    "print(f\"{check} is\",str1.count(check),f\"times in {str1}\")"
   ]
  },
  {
   "cell_type": "markdown",
   "id": "4d7535fa",
   "metadata": {},
   "source": [
    "## 14. What are negative indexes and why are they used?"
   ]
  },
  {
   "cell_type": "markdown",
   "id": "ddc1a902",
   "metadata": {},
   "source": [
    "* Python supports “indexing from the end”, that is, negative indexing.\n",
    "* This means the last value of a sequence has an index of -1, the second last -2, and so on.\n",
    "* You can use negative indexing as your advantage when you want to pick values from the end (right side) of an iterable."
   ]
  },
  {
   "cell_type": "markdown",
   "id": "e7449eee",
   "metadata": {},
   "source": [
    "## 15. Write a Python program to count occurrences of a substring in a string."
   ]
  },
  {
   "cell_type": "code",
   "execution_count": 6,
   "id": "81ed8044",
   "metadata": {},
   "outputs": [
    {
     "name": "stdout",
     "output_type": "stream",
     "text": [
      "Enter String : tops technology\n",
      "Enter substring check in to main string : ol\n",
      "ol is 1 times in tops technology\n"
     ]
    }
   ],
   "source": [
    "str1 = input(\"Enter String : \")\n",
    "check = input(\"Enter substring check in to main string : \")\n",
    "print(f\"{check} is\",str1.count(check),f\"times in {str1}\")"
   ]
  },
  {
   "cell_type": "markdown",
   "id": "375bf5dd",
   "metadata": {},
   "source": [
    "## 16.  Write a Python program to count the occurrences of each word in a given sentence.\n"
   ]
  },
  {
   "cell_type": "code",
   "execution_count": 7,
   "id": "6c6c6b12",
   "metadata": {},
   "outputs": [
    {
     "name": "stdout",
     "output_type": "stream",
     "text": [
      "Enter String : hello world hello hello world\n",
      "Enter word check in to main string : hello\n",
      "hello is 3 times in hello world hello hello world\n"
     ]
    }
   ],
   "source": [
    "str1 = input(\"Enter String : \")\n",
    "check = input(\"Enter word check in to main string : \")\n",
    "print(f\"{check} is\",str1.count(check),f\"times in {str1}\")"
   ]
  },
  {
   "cell_type": "markdown",
   "id": "e4fb8ef8",
   "metadata": {},
   "source": [
    "## 17. Write a Python program to get a single string from two given strings,separated by a space and swap the first two characters of each string."
   ]
  },
  {
   "cell_type": "code",
   "execution_count": 8,
   "id": "9106491c",
   "metadata": {},
   "outputs": [
    {
     "name": "stdout",
     "output_type": "stream",
     "text": [
      "Enter String : taksh\n",
      "Enter String : lakhani\n",
      "hakst iakhanl\n"
     ]
    }
   ],
   "source": [
    "s1 = input(\"Enter String : \")\n",
    "s2 = input(\"Enter String : \")\n",
    "s3 = s1[-1]+s1[1:-1]+s1[0]\n",
    "s4 = s2[-1]+s2[1:-1]+s2[0]\n",
    "s5 = s3+\" \"+s4\n",
    "print(s5)"
   ]
  },
  {
   "cell_type": "markdown",
   "id": "68e15df2",
   "metadata": {},
   "source": [
    "## 18. Write a Python program to add 'ing' at the end of a given string (length should be at least 3). If the given string already ends with 'ing' then add 'ly' insteadif the string length of the given string is less than 3, leave it unchanged."
   ]
  },
  {
   "cell_type": "code",
   "execution_count": 10,
   "id": "75d74473",
   "metadata": {},
   "outputs": [
    {
     "name": "stdout",
     "output_type": "stream",
     "text": [
      "Enter String : dancing\n",
      "dancingly\n"
     ]
    }
   ],
   "source": [
    "str1 = input(\"Enter String : \")\n",
    "if len(str1) > 3:\n",
    "    if str1.endswith(\"ing\") == True:\n",
    "        print(str1+\"ly\")\n",
    "    else:\n",
    "        print(str1+\"ing\")\n",
    "else:\n",
    "    print(str1)"
   ]
  },
  {
   "cell_type": "markdown",
   "id": "3dde05d6",
   "metadata": {},
   "source": [
    "## 19. Write a Python program to find the first appearance of the substring 'not' and 'poor' from a given string, if 'not' follows the 'poor', replace the whole 'not'...'poor' substring with 'good'. Return the resulting string."
   ]
  },
  {
   "cell_type": "code",
   "execution_count": 12,
   "id": "b1e08a4c",
   "metadata": {},
   "outputs": [
    {
     "name": "stdout",
     "output_type": "stream",
     "text": [
      "Enter String : you are not poor poor \n",
      "you are good poor \n"
     ]
    }
   ],
   "source": [
    "str1 = input(\"Enter String : \")\n",
    "if \"not\" and \"poor\" in str1:\n",
    "    if \"not poor\" in str1:\n",
    "        print(str1.replace(\"not poor\",\"good\"))\n",
    "    else:\n",
    "        print(str1)\n",
    "else:\n",
    "    print(\"there are no 'not' or 'poor' in the strig \")"
   ]
  },
  {
   "cell_type": "markdown",
   "id": "13a5eae8",
   "metadata": {},
   "source": [
    "## 20. Write a Python function that takes a list of words and returns the length of the longest one.\n"
   ]
  },
  {
   "cell_type": "code",
   "execution_count": 16,
   "id": "39183aeb",
   "metadata": {},
   "outputs": [
    {
     "name": "stdout",
     "output_type": "stream",
     "text": [
      "Enter String : abc abcd abcde abcdef\n",
      "6\n"
     ]
    }
   ],
   "source": [
    "str1 = input(\"Enter String : \").split()\n",
    "print(len(max(str1,key=len)))"
   ]
  },
  {
   "cell_type": "markdown",
   "id": "6f32da45",
   "metadata": {},
   "source": [
    "## 21. Write a Python function to reverses a string if its length is a multiple of 4"
   ]
  },
  {
   "cell_type": "code",
   "execution_count": 18,
   "id": "6d664836",
   "metadata": {},
   "outputs": [
    {
     "name": "stdout",
     "output_type": "stream",
     "text": [
      "Enter String : taksh la\n",
      "reversed string is :  al hskat\n"
     ]
    }
   ],
   "source": [
    "str1 = input(\"Enter String : \")\n",
    "if len(str1) % 4 == 0:\n",
    "    print(\"reversed string is : \",str1[::-1])\n",
    "else:\n",
    "    print(\"entered string's length is not multiple of 4.\")"
   ]
  },
  {
   "cell_type": "markdown",
   "id": "688f30b7",
   "metadata": {},
   "source": [
    "## 22. Write a Python program to get a string made of the first 2 and the last 2 chars from a given a string. If the string length is lessthan 2,return instead of the empty string.\n",
    "### o Sample String:w3resource'\n",
    "### o Expected Result: 'w3ce'\n",
    "### o Sample String: 'w3'\n",
    "### o Expected Result: 'w3w3'\n",
    "### o Sample String: ' w'\n",
    "### o Expected Result: Empty String"
   ]
  },
  {
   "cell_type": "code",
   "execution_count": 31,
   "id": "40c65c14",
   "metadata": {},
   "outputs": [
    {
     "name": "stdout",
     "output_type": "stream",
     "text": [
      "Enter String : taksh lakhani\n",
      "tani\n"
     ]
    }
   ],
   "source": [
    "str1 = input(\"Enter String : \")\n",
    "if len(str1) < 2:\n",
    "    print(\"\")\n",
    "elif len(str1) = 2:\n",
    "    print(str1 + str1)\n",
    "else:\n",
    "    str2 = str1[0:2]+str1[-2:]\n",
    "    print(str2)"
   ]
  },
  {
   "cell_type": "markdown",
   "id": "0ab125c0",
   "metadata": {},
   "source": [
    "## 23. Write a Python function to insert a string in the middle of a string."
   ]
  },
  {
   "cell_type": "code",
   "execution_count": 27,
   "id": "8048638c",
   "metadata": {},
   "outputs": [
    {
     "name": "stdout",
     "output_type": "stream",
     "text": [
      "Enter String : taksh lakhani\n",
      "Enter string to insert into middle of the main string : P. \n",
      "taksh P. lakhani\n"
     ]
    }
   ],
   "source": [
    "str1 = input(\"Enter String : \")\n",
    "str2 = input(\"Enter string to insert into middle of the main string : \")\n",
    "mid = len(str1) // 2\n",
    "str3 = str1[:mid] + str2 + str1[mid:]\n",
    "print(str3)"
   ]
  }
 ],
 "metadata": {
  "kernelspec": {
   "display_name": "Python 3 (ipykernel)",
   "language": "python",
   "name": "python3"
  },
  "language_info": {
   "codemirror_mode": {
    "name": "ipython",
    "version": 3
   },
   "file_extension": ".py",
   "mimetype": "text/x-python",
   "name": "python",
   "nbconvert_exporter": "python",
   "pygments_lexer": "ipython3",
   "version": "3.9.7"
  }
 },
 "nbformat": 4,
 "nbformat_minor": 5
}
