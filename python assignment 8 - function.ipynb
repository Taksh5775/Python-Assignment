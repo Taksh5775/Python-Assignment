{
 "cells": [
  {
   "cell_type": "markdown",
   "id": "bf860dcb",
   "metadata": {},
   "source": [
    "## 1. Define a function which counts vowels and consonant in a word.\n"
   ]
  },
  {
   "cell_type": "code",
   "execution_count": 15,
   "id": "665720b8",
   "metadata": {},
   "outputs": [
    {
     "name": "stdout",
     "output_type": "stream",
     "text": [
      "Enter String : taksh aeiou\n",
      "sum of vowel in string is  6\n",
      "sum of consonent in string is  4\n"
     ]
    }
   ],
   "source": [
    "def vc_count(x):\n",
    "    vowel = \"aeiouAEIOU\"\n",
    "    v_count = 0\n",
    "    c_count = 0\n",
    "    for i in x:\n",
    "        if i in vowel:\n",
    "            v_count += 1\n",
    "        elif i == ' ':\n",
    "            continue\n",
    "        else:\n",
    "            c_count += 1\n",
    "    return c_count,v_count\n",
    "str1 = input(\"Enter String : \")\n",
    "cnt_c , cnt_v = vc_count(str1)\n",
    "print(\"sum of vowel in string is \",cnt_v)\n",
    "print(\"sum of consonent in string is \",cnt_c)"
   ]
  },
  {
   "cell_type": "markdown",
   "id": "0f9e83fa",
   "metadata": {},
   "source": [
    " ## 2. Write a python program to find average of list using function."
   ]
  },
  {
   "cell_type": "code",
   "execution_count": 12,
   "id": "839ddfe3",
   "metadata": {},
   "outputs": [
    {
     "name": "stdout",
     "output_type": "stream",
     "text": [
      "average of list items is  5.5\n"
     ]
    }
   ],
   "source": [
    "def l_avg(x):\n",
    "    l_sum = 0\n",
    "    length = len(x)\n",
    "    for i in x:\n",
    "        l_sum += i\n",
    "    return l_sum/length\n",
    "list1 = [1,2,3,4,5,6,7,8,9,10]\n",
    "avg = l_avg(list1)\n",
    "print(\"average of list items is \",avg)\n"
   ]
  },
  {
   "cell_type": "markdown",
   "id": "50ebc5a2",
   "metadata": {},
   "source": [
    "## 3. Write a python program of a calculator using function.\n"
   ]
  },
  {
   "cell_type": "code",
   "execution_count": 18,
   "id": "9da3967a",
   "metadata": {},
   "outputs": [
    {
     "name": "stdout",
     "output_type": "stream",
     "text": [
      "Enter number : 5\n",
      "Enter second number : 5\n",
      "Enter operator : +\n",
      "answer is  10\n"
     ]
    }
   ],
   "source": [
    "def cal(n):\n",
    "    if operator == '+':\n",
    "        return num1+num2\n",
    "    elif operator == '-':\n",
    "        return num1-num2\n",
    "    elif operator == '*':\n",
    "        return num1*num2\n",
    "    else:\n",
    "        return num1/num2\n",
    "num1 = int(input(\"Enter number : \"))\n",
    "num2 = int(input(\"Enter second number : \"))\n",
    "operator = input(\"Enter operator : \")\n",
    "cal = cal(operator)\n",
    "print(\"answer is \",cal)"
   ]
  },
  {
   "cell_type": "markdown",
   "id": "218a142d",
   "metadata": {},
   "source": [
    "\n",
    "\n",
    "\n",
    "## 4. Write a python program to find factorial of a number using function using recursion"
   ]
  },
  {
   "cell_type": "code",
   "execution_count": 21,
   "id": "388e1738",
   "metadata": {},
   "outputs": [
    {
     "name": "stdout",
     "output_type": "stream",
     "text": [
      "Enter number : 5\n",
      "factorial is  120\n"
     ]
    }
   ],
   "source": [
    "def fact(n):\n",
    "    fact1 = 1\n",
    "    for i in range(1,n+1):\n",
    "        fact1 = fact1*i\n",
    "    return fact1\n",
    "num = int(input(\"Enter number : \"))\n",
    "factorial = fact(num)\n",
    "print(\"factorial is \",factorial)"
   ]
  },
  {
   "cell_type": "markdown",
   "id": "397dcaf8",
   "metadata": {},
   "source": [
    "## 5. Define a function that accepts radius and returns the area of a circle.`"
   ]
  },
  {
   "cell_type": "code",
   "execution_count": 32,
   "id": "352add43",
   "metadata": {},
   "outputs": [
    {
     "name": "stdout",
     "output_type": "stream",
     "text": [
      "Enter radius : 5\n",
      "area of circle is :  78.53981633974483\n"
     ]
    }
   ],
   "source": [
    "import math\n",
    "def circle(r):\n",
    "    a = math.pi*r*r\n",
    "    return a\n",
    "rad = int(input(\"Enter radius : \"))\n",
    "area = circle(rad)\n",
    "print(\"area of circle is : \",area)"
   ]
  },
  {
   "cell_type": "markdown",
   "id": "f4d49f87",
   "metadata": {},
   "source": [
    "## 6. Write a python program to check whether a given number is odd or even using function\n"
   ]
  },
  {
   "cell_type": "code",
   "execution_count": 31,
   "id": "5168dba7",
   "metadata": {},
   "outputs": [
    {
     "name": "stdout",
     "output_type": "stream",
     "text": [
      "Enter Number : 10\n",
      "10 is even.\n"
     ]
    }
   ],
   "source": [
    "def OE(x):\n",
    "    if x % 2 == 0:\n",
    "        return True\n",
    "    else:\n",
    "        return False\n",
    "num = int(input(\"Enter Number : \"))\n",
    "flag = OE(num)\n",
    "if flag == True:\n",
    "    print(f\"{num} is even.\")\n",
    "else:\n",
    "    print(f\"{num} is odd.\")   "
   ]
  },
  {
   "cell_type": "markdown",
   "id": "f9a07505",
   "metadata": {},
   "source": [
    "## 7. Write a python program to find sum of elements of the list using function (without using in\u0002built function).\n"
   ]
  },
  {
   "cell_type": "code",
   "execution_count": 1,
   "id": "73e2346e",
   "metadata": {},
   "outputs": [
    {
     "name": "stdout",
     "output_type": "stream",
     "text": [
      "sum of even numbers is 25\n",
      "sum of odd numbers is 30\n"
     ]
    }
   ],
   "source": [
    "lst = [x for x in range(1,11)]\n",
    "def OE_list(y):\n",
    "    odd_sum = 0\n",
    "    even_sum = 0\n",
    "    for i in y:\n",
    "        if i % 2 == 0:\n",
    "            odd_sum += i\n",
    "        else:\n",
    "            even_sum += i\n",
    "    return odd_sum,even_sum\n",
    "os, es = OE_list(lst)\n",
    "print(\"sum of even numbers is\",es)\n",
    "print(\"sum of odd numbers is\",os)\n",
    "\n",
    "    "
   ]
  },
  {
   "cell_type": "code",
   "execution_count": 7,
   "id": "b7d346e7",
   "metadata": {},
   "outputs": [],
   "source": [
    "list1 = [1,2,3,4,-1,-3,-5,-8,-1,-2]\n",
    "positive = []\n",
    "negative = []\n",
    "for i in list1:\n",
    "    if i > 0:\n",
    "        positive.append(i)\n",
    "    else:\n",
    "        negative.append(i)"
   ]
  },
  {
   "cell_type": "code",
   "execution_count": 11,
   "id": "812486dd",
   "metadata": {},
   "outputs": [
    {
     "name": "stdout",
     "output_type": "stream",
     "text": [
      "1 -1 2 -3 3 -5 4 -8 -1 -2 "
     ]
    }
   ],
   "source": [
    "if len(positive) == len(negative):\n",
    "    for i in range(len(positive)):\n",
    "        print(positive[i],negative[i],end = \" \")\n",
    "elif len(positive) < len(negative):\n",
    "    for i in range(len(positive)):\n",
    "        print(positive[i],negative[i],end = \" \")\n",
    "    for j in range(len(positive),len(negative)):\n",
    "        print(negative[j],end = \" \")\n",
    "else:\n",
    "    for i in range(len(negative)):\n",
    "        print(positive[i],negative[i],end = \" \")\n",
    "    for j in range(len(negative),len(positive)):\n",
    "        print(positive[j],end = \" \")\n",
    "    "
   ]
  },
  {
   "cell_type": "code",
   "execution_count": 17,
   "id": "408d9421",
   "metadata": {},
   "outputs": [
    {
     "name": "stdout",
     "output_type": "stream",
     "text": [
      "Enter sum : 2\n",
      "6\n"
     ]
    }
   ],
   "source": [
    "list1 = [1,1,1,1]\n",
    "num = int(input(\"Enter sum : \"))\n",
    "c = 0\n",
    "for i in range(len(list1)):\n",
    "    for j in range(i+1,len(list1)):\n",
    "        if list1[i] + list1[j] == num:\n",
    "            c += 1\n",
    "print(c)"
   ]
  },
  {
   "cell_type": "markdown",
   "id": "5ee76fbc",
   "metadata": {},
   "source": [
    "## 8. Write a python program to find length of a string using function (without using in-built function)\n",
    "\n"
   ]
  },
  {
   "cell_type": "code",
   "execution_count": 4,
   "id": "f239c7c1",
   "metadata": {},
   "outputs": [
    {
     "name": "stdout",
     "output_type": "stream",
     "text": [
      "Enter String : taksh\n",
      "5\n"
     ]
    }
   ],
   "source": [
    "def str1(x):\n",
    "    count = 0\n",
    "    for i in x:\n",
    "        count += 1\n",
    "    return count\n",
    "string = input(\"Enter String : \")\n",
    "c_str = str1(string)\n",
    "print(c_str)\n"
   ]
  },
  {
   "cell_type": "code",
   "execution_count": null,
   "id": "e59c96e7",
   "metadata": {},
   "outputs": [],
   "source": [
    "\n",
    "\n"
   ]
  }
 ],
 "metadata": {
  "kernelspec": {
   "display_name": "Python 3",
   "language": "python",
   "name": "python3"
  },
  "language_info": {
   "codemirror_mode": {
    "name": "ipython",
    "version": 3
   },
   "file_extension": ".py",
   "mimetype": "text/x-python",
   "name": "python",
   "nbconvert_exporter": "python",
   "pygments_lexer": "ipython3",
   "version": "3.8.8"
  }
 },
 "nbformat": 4,
 "nbformat_minor": 5
}
