{
 "cells": [
  {
   "cell_type": "markdown",
   "id": "ac7261f4",
   "metadata": {},
   "source": [
    "## 1. Write a python program to sum of the first n positive integers.\n"
   ]
  },
  {
   "cell_type": "code",
   "execution_count": 3,
   "id": "2b53e108",
   "metadata": {},
   "outputs": [
    {
     "name": "stdout",
     "output_type": "stream",
     "text": [
      "Enter Number: 8\n",
      "sum of first 8 integers is 36\n"
     ]
    }
   ],
   "source": [
    "num = int(input(\"Enter Number: \"))\n",
    "sum1 = 0\n",
    "for i in range(1,num+1):\n",
    "    sum1 += i\n",
    "print(\"sum of first {} integers is {}\".format(num,sum1))"
   ]
  },
  {
   "cell_type": "markdown",
   "id": "de16aa62",
   "metadata": {},
   "source": [
    "## 2. Write a Python program to count occurrences of a substring in a string.\n"
   ]
  },
  {
   "cell_type": "code",
   "execution_count": 5,
   "id": "6a045bb8",
   "metadata": {},
   "outputs": [
    {
     "name": "stdout",
     "output_type": "stream",
     "text": [
      "Enter String : taksh lakhani is a student.\n",
      "Enter String : ak\n",
      "ak is 2 times in a String.\n"
     ]
    }
   ],
   "source": [
    "str1 = input(\"Enter String : \")\n",
    "Sub_s = input(\"Enter String : \")\n",
    "print(\"{} is {} times in a String.\".format(Sub_s,str1.count(Sub_s)))"
   ]
  },
  {
   "cell_type": "markdown",
   "id": "5ca0a04f",
   "metadata": {},
   "source": [
    "## 3. Write a Python program to count the occurrences of each word in a given sentence."
   ]
  },
  {
   "cell_type": "code",
   "execution_count": 10,
   "id": "e9843819",
   "metadata": {
    "scrolled": true
   },
   "outputs": [
    {
     "name": "stdout",
     "output_type": "stream",
     "text": [
      "Enter String : taksh taksh hello hello good good poor poor poor poor\n",
      "hello is 2 times in string.\n",
      "taksh is 2 times in string.\n",
      "good is 2 times in string.\n",
      "poor is 4 times in string.\n"
     ]
    }
   ],
   "source": [
    "str1 = input(\"Enter String : \")\n",
    "words = set(str1.split())\n",
    "for w in words:\n",
    "    print(\"{} is {} times in string.\".format(w,str1.count(w)))"
   ]
  },
  {
   "cell_type": "markdown",
   "id": "5d68988b",
   "metadata": {},
   "source": [
    "## 4. Write a Python program to get a single string from two given strings, separated by a space and swap the first two characters of each string. "
   ]
  },
  {
   "cell_type": "code",
   "execution_count": 1,
   "id": "bfa2cdd1",
   "metadata": {},
   "outputs": [
    {
     "name": "stdout",
     "output_type": "stream",
     "text": [
      "Enter String : atksh\n",
      "Enter String : alkhani\n",
      "taksh lakhani\n"
     ]
    }
   ],
   "source": [
    "str1 = input(\"Enter String : \")\n",
    "str2 = input(\"Enter String : \")\n",
    "str3 = str1[1] + str1[0] + str1[2:]\n",
    "str4 = str2[1] + str2[0] + str2[2:]\n",
    "print(str3,str4)"
   ]
  },
  {
   "cell_type": "markdown",
   "id": "b1f4f039",
   "metadata": {},
   "source": [
    "## 5. Write a Python program to add 'ing' at the end of a given string (length should be at least 3). If the given string already ends with 'ing' then add 'ly' instead If the string length of the given string is less than 3, leave it unchanged "
   ]
  },
  {
   "cell_type": "code",
   "execution_count": 4,
   "id": "03ff8c75",
   "metadata": {
    "scrolled": true
   },
   "outputs": [
    {
     "name": "stdout",
     "output_type": "stream",
     "text": [
      "Enter String : tak\n",
      "taking\n"
     ]
    }
   ],
   "source": [
    "str1 = input(\"Enter String : \")\n",
    "if len(str1) >= 3:\n",
    "    if str1.endswith('ing'):\n",
    "        print(str1 + 'ly')\n",
    "    else:\n",
    "        print(str1 + 'ing')\n",
    "else:\n",
    "    print(str1)"
   ]
  },
  {
   "cell_type": "markdown",
   "id": "d3b11116",
   "metadata": {},
   "source": [
    "## 6. Write a Python program to find the first appearance of the substring 'not' and 'poor' from a given string, if 'not' follows the 'poor', replace the whole 'not'...'poor' substring with 'good'. Return the resulting string"
   ]
  },
  {
   "cell_type": "code",
   "execution_count": 14,
   "id": "d4fec1e3",
   "metadata": {},
   "outputs": [
    {
     "name": "stdout",
     "output_type": "stream",
     "text": [
      "Enter String : not poor poor poor not not poor\n",
      "first appearance of not is 0\n",
      "first appearance of poor is 4\n",
      "good poor poor not good\n"
     ]
    }
   ],
   "source": [
    "str1 = input(\"Enter String : \")\n",
    "sub_str = 'not'\n",
    "sub_str2 = 'poor'\n",
    "print(f\"first appearance of not is {str1.find('not')}\")\n",
    "print(f\"first appearance of poor is {str1.find('poor')}\")\n",
    "if 'not poor' in str1:\n",
    "    str2 = str1.replace('not poor','good')\n",
    "print(str2)"
   ]
  },
  {
   "cell_type": "markdown",
   "id": "1b35f008",
   "metadata": {},
   "source": [
    "## 7. Program to find Greatest Common Divisor of two numbers.\n",
    "For example, the GCD of 20 and 28 is 4 and GCD of 98 and 56 is 14"
   ]
  },
  {
   "cell_type": "code",
   "execution_count": 3,
   "id": "14c09b28",
   "metadata": {},
   "outputs": [
    {
     "name": "stdout",
     "output_type": "stream",
     "text": [
      "Enter firat Number  : 98\n",
      "Enter second Number : 56\n",
      "GCD of 98 and 56 is 14\n"
     ]
    }
   ],
   "source": [
    "num1 = int(input(\"Enter firat Number  : \"))\n",
    "num2 = int(input(\"Enter second Number : \"))\n",
    "div_1 = []\n",
    "div_2 = []\n",
    "for i in range(1,num1):\n",
    "    if num1 % i == 0:\n",
    "        div_1.append(i)\n",
    "for j in range(1,num2):\n",
    "    if num2 % j == 0:\n",
    "        div_2.append(j)\n",
    "GCD = max(set(div_1).intersection(set(div_2)))\n",
    "print(f\"GCD of {num1} and {num2} is {GCD}\")"
   ]
  },
  {
   "cell_type": "markdown",
   "id": "c5daffb9",
   "metadata": {},
   "source": [
    "## 8. Write a Python program to check whether a list contains a sublist.\n"
   ]
  },
  {
   "cell_type": "code",
   "execution_count": 4,
   "id": "8776ff3e",
   "metadata": {},
   "outputs": [
    {
     "name": "stdout",
     "output_type": "stream",
     "text": [
      "contains sublist\n"
     ]
    }
   ],
   "source": [
    "list1 = [1,2,[3,4],[5,6],7,8]\n",
    "list2 = [3,4]\n",
    "if list2 in list1:\n",
    "    print(\"contains sublist\")\n",
    "else:\n",
    "    print(\"does not contains sublist\")"
   ]
  },
  {
   "cell_type": "markdown",
   "id": "ba780377",
   "metadata": {},
   "source": [
    "## 9. Write a Python program to find the second smallest number in a list. \n"
   ]
  },
  {
   "cell_type": "code",
   "execution_count": 7,
   "id": "3b5b374d",
   "metadata": {},
   "outputs": [
    {
     "name": "stdout",
     "output_type": "stream",
     "text": [
      "Second largest number of list1 is : 2\n"
     ]
    }
   ],
   "source": [
    "list1 = [1,3,4,6,2,3,2,3,1,4,51,5,7,8,9]\n",
    "list2 = []\n",
    "for i in list1:\n",
    "    if i not in list2:\n",
    "        list2.append(i)\n",
    "list2.sort()\n",
    "print(\"Second largest number of list1 is :\",list2[1])"
   ]
  },
  {
   "cell_type": "markdown",
   "id": "57aefc62",
   "metadata": {},
   "source": [
    "## 10. Write a Python program to get unique values from a list.\n"
   ]
  },
  {
   "cell_type": "code",
   "execution_count": 9,
   "id": "939b7042",
   "metadata": {},
   "outputs": [
    {
     "name": "stdout",
     "output_type": "stream",
     "text": [
      "unique items of list1 is [6, 51, 5, 7, 8, 9]\n"
     ]
    }
   ],
   "source": [
    "list1 = [1,3,4,6,2,3,2,3,1,4,51,5,7,8,9]\n",
    "list2 = []\n",
    "for i in list1:\n",
    "    if list1.count(i) == 1:\n",
    "        list2.append(i)\n",
    "print(f\"unique items of list1 is {list2}\")"
   ]
  },
  {
   "cell_type": "markdown",
   "id": "5fe71ac8",
   "metadata": {},
   "source": [
    "## 11. Write a Python program to unzip a list of tuples into individual lists.\n"
   ]
  },
  {
   "cell_type": "code",
   "execution_count": 14,
   "id": "4c0ab9c8",
   "metadata": {},
   "outputs": [
    {
     "name": "stdout",
     "output_type": "stream",
     "text": [
      "[1, 2, 3]\n",
      "['a', 'b', 'c']\n",
      "[1, 'b', True]\n"
     ]
    }
   ],
   "source": [
    "list_of_tuple = [(1,2,3),('a','b','c'),(1,'b',True)]\n",
    "List1 = []\n",
    "list2 = []\n",
    "list3 = []\n",
    "list1,list2,list3 = list_of_tuple\n",
    "print(list(list1))\n",
    "print(list(list2))\n",
    "print(list(list3))"
   ]
  },
  {
   "cell_type": "markdown",
   "id": "7c69ee2a",
   "metadata": {},
   "source": [
    "## 12. Write a Python program to convert a list of tuples into a dictionary\n"
   ]
  },
  {
   "cell_type": "code",
   "execution_count": 18,
   "id": "b039ea67",
   "metadata": {},
   "outputs": [
    {
     "name": "stdout",
     "output_type": "stream",
     "text": [
      "{1: 2, 'a': 'b', 2: 'b'}\n"
     ]
    }
   ],
   "source": [
    "list_of_tuple = [(1,2),('a','b'),(2,'b')]\n",
    "print(dict(list_of_tuple))"
   ]
  },
  {
   "cell_type": "markdown",
   "id": "b65ed115",
   "metadata": {},
   "source": [
    "## 13. Write a Python program to sort a dictionary (ascending /descending) by value.\n"
   ]
  },
  {
   "cell_type": "code",
   "execution_count": 23,
   "id": "3c3411c8",
   "metadata": {},
   "outputs": [
    {
     "name": "stdout",
     "output_type": "stream",
     "text": [
      "['dhruv', 'kishan', 'krishna', 'taksh']\n"
     ]
    }
   ],
   "source": [
    "dict1 = {1:'taksh', 2:'krishna', 3:'kishan', 4:'dhruv'}\n",
    "print(sorted(dict1.values()))"
   ]
  },
  {
   "cell_type": "code",
   "execution_count": 25,
   "id": "f97c725e",
   "metadata": {},
   "outputs": [
    {
     "name": "stdout",
     "output_type": "stream",
     "text": [
      "[8, 6, 5, 3, 1]\n"
     ]
    }
   ],
   "source": [
    "# example of sort a tuple\n",
    "tup = (1,6,3,5,8)\n",
    "des = sorted(tup)\n",
    "print(des[::-1])"
   ]
  },
  {
   "cell_type": "markdown",
   "id": "ca36c20f",
   "metadata": {},
   "source": [
    "## 14. Write a Python program to find the highest 3 values in a dictionary."
   ]
  },
  {
   "cell_type": "code",
   "execution_count": 31,
   "id": "1691dd8c",
   "metadata": {},
   "outputs": [
    {
     "name": "stdout",
     "output_type": "stream",
     "text": [
      "['zoo', 'taksh', 'krishna']\n"
     ]
    }
   ],
   "source": [
    "dict1 = {1:'taksh', 2:'krishna', 3:'kishan', 4:'dhruv', 5:'zoo', 6:'hello'}\n",
    "asc = sorted(dict1.values())\n",
    "print(asc[-1:-4:-1])"
   ]
  },
  {
   "cell_type": "markdown",
   "id": "243166c1",
   "metadata": {},
   "source": [
    "## 15. Given a number n, write a python program to make and print the list of Fibonacci series up to n.\n",
    "Input : n=7 \n",
    "Hint : first 7 numbers in the series\n",
    "Expected output : \n",
    "First few Fibonacci numbers are 0, 1, 1, 2, 3, 5, 8, 13"
   ]
  },
  {
   "cell_type": "code",
   "execution_count": 5,
   "id": "0482ec8a",
   "metadata": {},
   "outputs": [
    {
     "name": "stdout",
     "output_type": "stream",
     "text": [
      "Enter Number : 7\n",
      "[0, 1, 1, 2, 3, 5, 8, 13]\n"
     ]
    }
   ],
   "source": [
    "num = int(input(\"Enter Number : \"))\n",
    "fibo_list = []\n",
    "i = 0\n",
    "n1 = 0\n",
    "n2 = 1\n",
    "if num <= 0:\n",
    "    print(\"enter valid input.\")\n",
    "elif num == 1:\n",
    "    fibo_list.append(n1)\n",
    "else:\n",
    "    fibo_list.append(n1)\n",
    "    while i < num:\n",
    "        fibo_list.append(n2)\n",
    "        n3 = n1 + n2\n",
    "        n1 = n2\n",
    "        n2 = n3\n",
    "        i += 1\n",
    "print(fibo_list)"
   ]
  },
  {
   "cell_type": "markdown",
   "id": "f31c369a",
   "metadata": {},
   "source": [
    "## 16. Counting the frequencies in a list using a dictionary in Python.\n",
    "Input : [1, 1, 1, 5, 5, 3, 1, 3, 3, 1,4, 4, 4, 2, 2, 2, 2]\n",
    "Expected output : 1 : 5 , 2 : 4 , 3 : 3 , 4 : 3 , 5 : 2\n"
   ]
  },
  {
   "cell_type": "code",
   "execution_count": 9,
   "id": "91b9ae3d",
   "metadata": {},
   "outputs": [
    {
     "name": "stdout",
     "output_type": "stream",
     "text": [
      "{1: 5, 2: 4, 3: 3, 4: 3, 5: 2}\n"
     ]
    }
   ],
   "source": [
    "list1 = [1, 1, 1, 5, 5, 3, 1, 3, 3, 1, 4, 4, 4, 2, 2, 2, 2]\n",
    "list2 = []\n",
    "dict1 = {}\n",
    "for i in list1:\n",
    "    if i not in list2:\n",
    "        list2.append(i)\n",
    "for j in list2:\n",
    "    c = 0\n",
    "    for i in list1:\n",
    "        if j == i:\n",
    "            c += 1\n",
    "        else:\n",
    "            continue\n",
    "        dict1[i] = c    \n",
    "print(dict(sorted(dict1.items())))"
   ]
  },
  {
   "cell_type": "markdown",
   "id": "fcdf270d",
   "metadata": {},
   "source": [
    "## 17. Write a python program using function to find the sum of odd series and even series\n",
    "Odd series: 12/ 1! + 32/ 3! + 52/ 5!+……n \n",
    "Even series: 22/ 2! + 42/ 4! + 62/ 6!+……n\n"
   ]
  },
  {
   "cell_type": "code",
   "execution_count": 12,
   "id": "be68bbc3",
   "metadata": {},
   "outputs": [
    {
     "name": "stdout",
     "output_type": "stream",
     "text": [
      "Enter sequences : 3\n",
      "sum is  2.7083333333333335\n",
      "Enter sequences : 4\n",
      "sum is  2.718253968253968\n"
     ]
    }
   ],
   "source": [
    "def fact(n):\n",
    "    if n == 0 or n == 1:\n",
    "        return 1\n",
    "    else:\n",
    "        return n*fact(n-1)\n",
    "\n",
    "# for Odd series    \n",
    "n = int(input(\"Enter sequences : \"))\n",
    "# print(\"factorial is : \",fact(n))\n",
    "sum1 = 0\n",
    "for i in range(1,2*n,2):\n",
    "    sum1 = sum1 + i**2/fact(i)\n",
    "print(\"sum is \",sum1)\n",
    "\n",
    "# for even series\n",
    "n1 = int(input(\"Enter sequences : \"))\n",
    "# print(\"factorial is : \",fact(n))\n",
    "sum2 = 0\n",
    "for j in range(2,(2*n1+1),2):\n",
    "    sum2 = sum2 + j**2/fact(j)\n",
    "print(\"sum is \",sum2)"
   ]
  },
  {
   "cell_type": "markdown",
   "id": "27139e97",
   "metadata": {},
   "source": [
    "## 18. Python Program to Find Factorial of Number Using Recursion\n"
   ]
  },
  {
   "cell_type": "code",
   "execution_count": 13,
   "id": "b0305462",
   "metadata": {},
   "outputs": [
    {
     "name": "stdout",
     "output_type": "stream",
     "text": [
      "Enter number :10\n",
      "factorial is : 3628800\n"
     ]
    }
   ],
   "source": [
    "n = int(input(\"Enter number :\"))\n",
    "def fact(n):\n",
    "    if n == 0 or n == 1:\n",
    "        return 1\n",
    "    else:\n",
    "        return n*fact(n-1)\n",
    "print(\"factorial is :\",fact(n))"
   ]
  },
  {
   "cell_type": "markdown",
   "id": "78af2723",
   "metadata": {},
   "source": [
    "## 19. Write a Python function that takes a list and returns a new list with unique elements of the first list."
   ]
  },
  {
   "cell_type": "code",
   "execution_count": 27,
   "id": "88af2788",
   "metadata": {},
   "outputs": [
    {
     "name": "stdout",
     "output_type": "stream",
     "text": [
      "Enter list of items : 1 2 3 1 2 3 4 5 6 4 5 \n",
      "['1', '2', '3', '4', '5', '6']\n"
     ]
    }
   ],
   "source": [
    "list1 = input(\"Enter list of items : \").split()\n",
    "def s_list(x):\n",
    "    a = set(list(x))\n",
    "    return a\n",
    "print(sorted(list(s_list(list1))))"
   ]
  },
  {
   "cell_type": "markdown",
   "id": "64d0d196",
   "metadata": {},
   "source": [
    "## Mini project : \n",
    "### Problem Statement : Password Generator \n",
    "Make a program to generate a strong password using the input given by the user. To generate a password, randomly take some words from the user input and then include numbers, special characters and capital letters to generate the password. Also, keep a check that password length is more than 8 characters. \n",
    "Note: Include Exception handling wherever required. Also, make a ‘User’ class and store the details like user id, name and password of each user as a tuple. "
   ]
  },
  {
   "cell_type": "code",
   "execution_count": 1,
   "id": "92df251d",
   "metadata": {},
   "outputs": [
    {
     "name": "stdout",
     "output_type": "stream",
     "text": [
      "Enter random word : takshlak\n",
      "k913A*&K\n"
     ]
    }
   ],
   "source": [
    "import random\n",
    "\n",
    "word = input(\"Enter random word : \")\n",
    "digits = \"0123456789\"\n",
    "punctuation = \"!@#$%^&*()\"\n",
    "characters =  list(digits + punctuation + word + word.upper())\n",
    "\n",
    "\n",
    "def generate_password(x):\n",
    "    \n",
    "    password = []\n",
    "    random.shuffle(characters)\n",
    "#     print(characters)\n",
    "    length = random.randrange(8,12)\n",
    "#     print(length)\n",
    "    if len(x) >= 8:\n",
    "        password.extend(random.choices(characters, k=random.randrange(8,12)))\n",
    "        print(\"\".join(password))\n",
    "    else:\n",
    "        print(\"word length should not less than 8\")\n",
    "\n",
    "generate_password(word)"
   ]
  },
  {
   "cell_type": "code",
   "execution_count": null,
   "id": "eba48c63",
   "metadata": {},
   "outputs": [],
   "source": []
  }
 ],
 "metadata": {
  "kernelspec": {
   "display_name": "Python 3",
   "language": "python",
   "name": "python3"
  },
  "language_info": {
   "codemirror_mode": {
    "name": "ipython",
    "version": 3
   },
   "file_extension": ".py",
   "mimetype": "text/x-python",
   "name": "python",
   "nbconvert_exporter": "python",
   "pygments_lexer": "ipython3",
   "version": "3.8.8"
  }
 },
 "nbformat": 4,
 "nbformat_minor": 5
}
