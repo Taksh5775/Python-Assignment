{
 "cells": [
  {
   "cell_type": "markdown",
   "id": "0b969ca8",
   "metadata": {},
   "source": [
    "## 1.Write a program to accept percentage from the user and display the grade according to the following criteria:\n",
    "#### Marks Grade\n",
    "#### > 90 A\n",
    "#### > 80 and <= 90 B\n",
    "#### >= 60 and <= 80 C\n",
    "#### below 60 D\n"
   ]
  },
  {
   "cell_type": "code",
   "execution_count": 2,
   "id": "ff6902b7",
   "metadata": {},
   "outputs": [
    {
     "name": "stdout",
     "output_type": "stream",
     "text": [
      "Enter perventage : 80.05\n",
      "your grade is B\n"
     ]
    }
   ],
   "source": [
    "PR = float(input(\"Enter perventage : \"))\n",
    "if PR > 90:\n",
    "    print(\"your grade is A\")\n",
    "elif PR > 80 and PR <= 90:\n",
    "    print(\"your grade is B\")\n",
    "elif PR >= 60 and PR <= 80:\n",
    "    print(\"your grade is C\")\n",
    "else:\n",
    "    print(\"your grade is D\")"
   ]
  },
  {
   "cell_type": "markdown",
   "id": "a4a77651",
   "metadata": {},
   "source": [
    "## 2. Write a Python program to check if a number is positive, negative or zero.\n"
   ]
  },
  {
   "cell_type": "code",
   "execution_count": 4,
   "id": "aaf2de26",
   "metadata": {},
   "outputs": [
    {
     "name": "stdout",
     "output_type": "stream",
     "text": [
      "Enter number : 85\n",
      "85 is positive.\n"
     ]
    }
   ],
   "source": [
    "n1 = int(input(\"Enter number : \"))\n",
    "if n1 > 0:\n",
    "    print(n1,\"is positive.\")\n",
    "elif n1 < 0:\n",
    "    print(n1,\"is negative.\")\n",
    "else:\n",
    "    print(n1,\"is Zero.\")\n",
    "    "
   ]
  },
  {
   "cell_type": "markdown",
   "id": "3d0b2c21",
   "metadata": {},
   "source": [
    "## 3. Write a Python program to check if variable is of integer or string.\n"
   ]
  },
  {
   "cell_type": "code",
   "execution_count": 9,
   "id": "11afab5f",
   "metadata": {},
   "outputs": [
    {
     "name": "stdout",
     "output_type": "stream",
     "text": [
      "10 is string type\n"
     ]
    }
   ],
   "source": [
    "c = '10'\n",
    "if type(c) == str :\n",
    "    print(c,\"is string type\")\n",
    "else:\n",
    "    print(c,\"is integer type\")"
   ]
  },
  {
   "cell_type": "markdown",
   "id": "dadd5434",
   "metadata": {},
   "source": [
    "## 4. Write a Python Program to Check given year is Leap Year or not.\n"
   ]
  },
  {
   "cell_type": "code",
   "execution_count": 10,
   "id": "a7fd135d",
   "metadata": {},
   "outputs": [
    {
     "name": "stdout",
     "output_type": "stream",
     "text": [
      "Enter year : 2016\n",
      "2016 is a leap year.\n"
     ]
    }
   ],
   "source": [
    "year = int(input(\"Enter year : \"))\n",
    "if year % 4 == 0 or year % 100 == 0 or year % 400 == 0:\n",
    "    print(year,\"is a leap year.\")\n",
    "else:\n",
    "    print(year,\"is not a leap year.\")\n",
    "    "
   ]
  },
  {
   "cell_type": "markdown",
   "id": "74804127",
   "metadata": {},
   "source": [
    "## 5. Python Program to Print Natural Number"
   ]
  },
  {
   "cell_type": "code",
   "execution_count": 11,
   "id": "0eaef4e6",
   "metadata": {},
   "outputs": [
    {
     "name": "stdout",
     "output_type": "stream",
     "text": [
      "Enter number :4\n",
      "1\n",
      "2\n",
      "3\n",
      "4\n"
     ]
    }
   ],
   "source": [
    "n1 = int(input(\"Enter number :\"))\n",
    "for i in range(1,n1+1):\n",
    "    print(i)"
   ]
  },
  {
   "cell_type": "markdown",
   "id": "51042a27",
   "metadata": {},
   "source": [
    "## 6.Python Program to Print Even Numbers from 1 to N\n"
   ]
  },
  {
   "cell_type": "code",
   "execution_count": 14,
   "id": "9c431ccd",
   "metadata": {},
   "outputs": [
    {
     "name": "stdout",
     "output_type": "stream",
     "text": [
      "Enter how many even number you want : 10\n",
      "[2, 4, 6, 8, 10, 12, 14, 16, 18, 20]\n"
     ]
    }
   ],
   "source": [
    "n1 = int(input(\"Enter how many even number you want : \"))\n",
    "list1 = []\n",
    "for i in range(2,n1*2+1,2):\n",
    "    list1.append(i)\n",
    "print(list1)"
   ]
  },
  {
   "cell_type": "markdown",
   "id": "60b33911",
   "metadata": {},
   "source": [
    "## 7. Python Program to Print all Prime Numbers in an Interval\n"
   ]
  },
  {
   "cell_type": "code",
   "execution_count": 18,
   "id": "38cfb521",
   "metadata": {},
   "outputs": [
    {
     "name": "stdout",
     "output_type": "stream",
     "text": [
      "Enter number : 13\n",
      "13 is prime number.\n"
     ]
    }
   ],
   "source": [
    "n1 = int(input(\"Enter number : \"))\n",
    "prime = False\n",
    "for i in range(2,n1):\n",
    "    if n1 % i == 0:\n",
    "        prime = False  \n",
    "    else:\n",
    "        prime = True\n",
    "if prime == True:\n",
    "    print(n1,\"is prime number.\")\n",
    "else:\n",
    "    print(n1,\"is not prime number.\")"
   ]
  },
  {
   "cell_type": "markdown",
   "id": "1939f9c1",
   "metadata": {},
   "source": [
    "## 8. Python Program to Print Natural Numbers in Reverse\n"
   ]
  },
  {
   "cell_type": "code",
   "execution_count": 21,
   "id": "061a6d37",
   "metadata": {},
   "outputs": [
    {
     "name": "stdout",
     "output_type": "stream",
     "text": [
      "Enter number :11\n",
      "[11, 10, 9, 8, 7, 6, 5, 4, 3, 2, 1]\n"
     ]
    }
   ],
   "source": [
    "list1 = []\n",
    "n1 = int(input(\"Enter number :\"))\n",
    "for i in range(n1,0,-1):\n",
    "    list1.append(i)\n",
    "print(list1)"
   ]
  },
  {
   "cell_type": "markdown",
   "id": "f159a8b6",
   "metadata": {},
   "source": [
    "## 9. Python Program to find Sum of Even and Odd Numbers from 1 to N\n"
   ]
  },
  {
   "cell_type": "code",
   "execution_count": 24,
   "id": "85624659",
   "metadata": {},
   "outputs": [
    {
     "name": "stdout",
     "output_type": "stream",
     "text": [
      "sum of even numbers is 30\n",
      "sum od odd numbers is 25\n"
     ]
    }
   ],
   "source": [
    "sum1 = 0\n",
    "sum2 = 0\n",
    "for i in range(1,11):\n",
    "    if i % 2 == 0:\n",
    "        sum1 += i\n",
    "    else:\n",
    "        sum2 += i\n",
    "print(\"sum of even numbers is\",sum1)\n",
    "print(\"sum od odd numbers is\",sum2)\n"
   ]
  },
  {
   "cell_type": "markdown",
   "id": "df037fa6",
   "metadata": {},
   "source": [
    "## 10. Python Program to Display the Multiplication Table\n"
   ]
  },
  {
   "cell_type": "code",
   "execution_count": 25,
   "id": "230782fb",
   "metadata": {},
   "outputs": [
    {
     "name": "stdout",
     "output_type": "stream",
     "text": [
      "Enter number :8\n",
      "8 * 1 = 8\n",
      "8 * 2 = 16\n",
      "8 * 3 = 24\n",
      "8 * 4 = 32\n",
      "8 * 5 = 40\n",
      "8 * 6 = 48\n",
      "8 * 7 = 56\n",
      "8 * 8 = 64\n",
      "8 * 9 = 72\n",
      "8 * 10 = 80\n"
     ]
    }
   ],
   "source": [
    "n1 = int(input(\"Enter number :\"))\n",
    "for i in range(1,11):\n",
    "    print(n1,\"*\",i,\"=\",n1*i)"
   ]
  },
  {
   "cell_type": "markdown",
   "id": "ebd68430",
   "metadata": {},
   "source": [
    "## 11. Python Program to Check Number is Divisible by 5 in a given interval Order"
   ]
  },
  {
   "cell_type": "code",
   "execution_count": 26,
   "id": "920a4d4e",
   "metadata": {},
   "outputs": [
    {
     "name": "stdout",
     "output_type": "stream",
     "text": [
      "Enter number :10\n",
      "[5, 10]\n"
     ]
    }
   ],
   "source": [
    "list1 = []\n",
    "n1 = int(input(\"Enter number :\"))\n",
    "for i in range(1,n1+1):\n",
    "    if i % 5 == 0:\n",
    "        list1.append(i)\n",
    "    else:\n",
    "        pass\n",
    "print(list1)"
   ]
  },
  {
   "cell_type": "markdown",
   "id": "2eb46d49",
   "metadata": {},
   "source": [
    "## 12. Write a Python program to print negative numbers in an interval"
   ]
  },
  {
   "cell_type": "code",
   "execution_count": 28,
   "id": "71b8e12b",
   "metadata": {},
   "outputs": [
    {
     "name": "stdout",
     "output_type": "stream",
     "text": [
      "[-11, -10, -9, -8, -7, -6, -5, -4, -3, -2, -1]\n"
     ]
    }
   ],
   "source": [
    "list1 = []\n",
    "for i in range(-11,1):\n",
    "    if i < 0:\n",
    "        list1.append(i)\n",
    "print(list1)"
   ]
  },
  {
   "cell_type": "code",
   "execution_count": null,
   "id": "f2a6c79d",
   "metadata": {},
   "outputs": [],
   "source": []
  }
 ],
 "metadata": {
  "kernelspec": {
   "display_name": "Python 3",
   "language": "python",
   "name": "python3"
  },
  "language_info": {
   "codemirror_mode": {
    "name": "ipython",
    "version": 3
   },
   "file_extension": ".py",
   "mimetype": "text/x-python",
   "name": "python",
   "nbconvert_exporter": "python",
   "pygments_lexer": "ipython3",
   "version": "3.8.8"
  }
 },
 "nbformat": 4,
 "nbformat_minor": 5
}
