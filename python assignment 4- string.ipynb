{
 "cells": [
  {
   "cell_type": "markdown",
   "id": "2cfc0008",
   "metadata": {},
   "source": [
    "## 1. Python program to Count Occurrence of a Character in a String\n"
   ]
  },
  {
   "cell_type": "code",
   "execution_count": 2,
   "id": "851c3b15",
   "metadata": {},
   "outputs": [
    {
     "data": {
      "text/plain": [
       "1"
      ]
     },
     "execution_count": 2,
     "metadata": {},
     "output_type": "execute_result"
    }
   ],
   "source": [
    "str1 = 'taksh lakhani'\n",
    "str1.count('i')"
   ]
  },
  {
   "cell_type": "markdown",
   "id": "96b4fcd5",
   "metadata": {},
   "source": [
    "## 2. Python Program to Count Characters Frequency in a String\n"
   ]
  },
  {
   "cell_type": "code",
   "execution_count": 10,
   "id": "a517373d",
   "metadata": {},
   "outputs": [
    {
     "name": "stdout",
     "output_type": "stream",
     "text": [
      "Entert String : ta gsg rfvg ter \n",
      "Enter String : t\n",
      "t is 2 times in string\n"
     ]
    }
   ],
   "source": [
    "str1 = input(\"Entert String : \")\n",
    "check = input(\"Enter String : \")\n",
    "print(\"{} is {} times in string\".format(check,str1.count(check)))"
   ]
  },
  {
   "cell_type": "markdown",
   "id": "1cee5bf6",
   "metadata": {},
   "source": [
    "## 3. Python program to Count Total Characters in a String\n"
   ]
  },
  {
   "cell_type": "code",
   "execution_count": 78,
   "id": "e233d6cf",
   "metadata": {},
   "outputs": [
    {
     "name": "stdout",
     "output_type": "stream",
     "text": [
      "Entert String : taksh lakhani p lakhani\n",
      "total characters in a string is 20\n"
     ]
    }
   ],
   "source": [
    "str1 = input(\"Entert String : \")\n",
    "t_ch = 0\n",
    "for i in str1:\n",
    "    if i != ' ':\n",
    "        t_ch += 1\n",
    "print(f\"total characters in a string is {t_ch}\")\n",
    "        "
   ]
  },
  {
   "cell_type": "markdown",
   "id": "bb0a5590",
   "metadata": {},
   "source": [
    "## 4. Python program to Count Total Number of Words in a String\n"
   ]
  },
  {
   "cell_type": "code",
   "execution_count": 12,
   "id": "e8ac744b",
   "metadata": {},
   "outputs": [
    {
     "name": "stdout",
     "output_type": "stream",
     "text": [
      "Entert String : taksh krishna kishan dhruv\n",
      "4\n"
     ]
    }
   ],
   "source": [
    "str1 = input(\"Entert String : \")\n",
    "words = str1.split()\n",
    "print(len(words))"
   ]
  },
  {
   "cell_type": "markdown",
   "id": "b0a55327",
   "metadata": {},
   "source": [
    "## 5. Python program to Count Vowels and Consonants in a String\n"
   ]
  },
  {
   "cell_type": "code",
   "execution_count": 22,
   "id": "e80e8260",
   "metadata": {},
   "outputs": [
    {
     "name": "stdout",
     "output_type": "stream",
     "text": [
      "Entert String : takhlakhanikishanhajari\n",
      "String contains 9 vowels and 14 consonants.\n"
     ]
    }
   ],
   "source": [
    "vowel = 'AEIOUaeiou'\n",
    "s_vowel = 0\n",
    "s_con = 0\n",
    "str1 = input(\"Entert String : \")\n",
    "# set1 = set(str1)\n",
    "for i in str1:\n",
    "    if i not in vowel:\n",
    "        s_con += 1\n",
    "    else:\n",
    "        s_vowel += 1\n",
    "print(\"String contains {} vowels and {} consonants.\".format(s_vowel,s_con))"
   ]
  },
  {
   "cell_type": "markdown",
   "id": "df20a41c",
   "metadata": {},
   "source": [
    "## 6. Python program to Count Alphabets Digits and Special Characters in a String\n"
   ]
  },
  {
   "cell_type": "code",
   "execution_count": 21,
   "id": "bfaaa441",
   "metadata": {},
   "outputs": [
    {
     "name": "stdout",
     "output_type": "stream",
     "text": [
      "Entert String : taksh1234@gmail.com\n",
      "String Contains 13 alphabets, 4 dgits and 2 special characters.\n"
     ]
    }
   ],
   "source": [
    "str1 = input(\"Entert String : \")\n",
    "c_alph = 0\n",
    "c_dig = 0\n",
    "c_sc = 0\n",
    "for i in str1:\n",
    "    if i.isalpha() == True:\n",
    "        c_alph += 1\n",
    "    elif i.isdigit() == True:\n",
    "        c_dig += 1\n",
    "    else:\n",
    "        c_sc += 1\n",
    "print(\"String Contains {} alphabets, {} dgits and {} special characters.\".format(c_alph,c_dig,c_sc))\n"
   ]
  },
  {
   "cell_type": "markdown",
   "id": "a651bb33",
   "metadata": {},
   "source": [
    "##  7. Python program to check Palindrome or Not\n"
   ]
  },
  {
   "cell_type": "code",
   "execution_count": 33,
   "id": "82fdefd7",
   "metadata": {},
   "outputs": [
    {
     "name": "stdout",
     "output_type": "stream",
     "text": [
      "Entert String : takshphskat\n",
      "String is palindrome.\n"
     ]
    }
   ],
   "source": [
    "str1 = input(\"Entert String : \")\n",
    "str2 = str1[-1:0:-1] + str1[0]\n",
    "if str1 == str2:\n",
    "    print(\"String is palindrome.\")\n",
    "else:\n",
    "    print(\"String is not palindrome.\")\n",
    "    \n",
    "    "
   ]
  },
  {
   "cell_type": "markdown",
   "id": "1f1766e0",
   "metadata": {},
   "source": [
    "## 8. Python program to Print First Occurrence of a Character in a String\n"
   ]
  },
  {
   "cell_type": "code",
   "execution_count": 35,
   "id": "bda994da",
   "metadata": {},
   "outputs": [
    {
     "name": "stdout",
     "output_type": "stream",
     "text": [
      "Entert String : taksh lakhani\n",
      "Entert String : a\n",
      "first occurance of a is at the index 1\n"
     ]
    }
   ],
   "source": [
    "str1 = input(\"Entert String : \")\n",
    "f_occ = input(\"Entert String : \")\n",
    "print(\"first occurance of {} is at the index {}\".format(f_occ,str1.index(f_occ)))"
   ]
  },
  {
   "cell_type": "markdown",
   "id": "425e086a",
   "metadata": {},
   "source": [
    "## 9. Python program to Print Last Occurrence of a Character in a String"
   ]
  },
  {
   "cell_type": "code",
   "execution_count": 38,
   "id": "078f96ac",
   "metadata": {},
   "outputs": [
    {
     "name": "stdout",
     "output_type": "stream",
     "text": [
      "Entert String : takspj rdd a rt sa\n",
      "Entert String : a\n",
      "17\n"
     ]
    }
   ],
   "source": [
    "str1 = input(\"Entert String : \")\n",
    "l_occ = input(\"Entert String : \")\n",
    "print(str1.rfind(l_occ))"
   ]
  },
  {
   "cell_type": "markdown",
   "id": "dc64bc9a",
   "metadata": {},
   "source": [
    "## 10. Python program to Replace Blank Space with Hyphen in a String\n"
   ]
  },
  {
   "cell_type": "code",
   "execution_count": 44,
   "id": "15f834b4",
   "metadata": {},
   "outputs": [
    {
     "name": "stdout",
     "output_type": "stream",
     "text": [
      "Enter String : taksh krishna kishan dhruv\n",
      "taksh-krishna-kishan-dhruv\n"
     ]
    }
   ],
   "source": [
    "str1 = input(\"Enter String : \")\n",
    "print(\"-\".join(str1.split()))"
   ]
  },
  {
   "cell_type": "markdown",
   "id": "f994952a",
   "metadata": {},
   "source": [
    "## 11. Python program to Replace Characters in a String\n"
   ]
  },
  {
   "cell_type": "code",
   "execution_count": 45,
   "id": "c7e45f22",
   "metadata": {},
   "outputs": [
    {
     "name": "stdout",
     "output_type": "stream",
     "text": [
      "Enter String : ta wat afa aa aafv \n",
      "tv wvt vfv vv vvfv \n"
     ]
    }
   ],
   "source": [
    "str1 = input(\"Enter String : \")\n",
    "print(str1.replace('a','v'))"
   ]
  },
  {
   "cell_type": "markdown",
   "id": "b915c8de",
   "metadata": {},
   "source": [
    "## 12. Python program to Remove Odd Index Characters in a String\n"
   ]
  },
  {
   "cell_type": "code",
   "execution_count": 60,
   "id": "5fe3cba3",
   "metadata": {},
   "outputs": [
    {
     "name": "stdout",
     "output_type": "stream",
     "text": [
      "Enter String : taksh lakhani\n",
      "String is  tkhlkai\n"
     ]
    }
   ],
   "source": [
    "str1 = input(\"Enter String : \")\n",
    "str2 = \"\"\n",
    "for i in range(len(str1)):\n",
    "    if i % 2 == 0:\n",
    "        str2 = str2 + str1[i]\n",
    "print(\"String is \",str2)"
   ]
  },
  {
   "cell_type": "markdown",
   "id": "510234f3",
   "metadata": {},
   "source": [
    "## 13. Python program to Remove First Occurrence of a Character in a String\n"
   ]
  },
  {
   "cell_type": "code",
   "execution_count": 65,
   "id": "ea668405",
   "metadata": {},
   "outputs": [
    {
     "name": "stdout",
     "output_type": "stream",
     "text": [
      "Enter String : taksh lakhani\n",
      "Enter character : a\n",
      "tksh lakhani\n"
     ]
    }
   ],
   "source": [
    "str1 = input(\"Enter String : \")\n",
    "str2 = input(\"Enter character : \")\n",
    "i = str1.index(str2)\n",
    "str3 = str1[0:i] + str1[i+1:]\n",
    "print(str3)"
   ]
  },
  {
   "cell_type": "markdown",
   "id": "3c8cc854",
   "metadata": {},
   "source": [
    "## 14. Python program to Remove Last Occurred Character in a String\n"
   ]
  },
  {
   "cell_type": "code",
   "execution_count": 66,
   "id": "7d1d6909",
   "metadata": {},
   "outputs": [
    {
     "name": "stdout",
     "output_type": "stream",
     "text": [
      "Entert String : taksh lakhani\n",
      "Entert String : a\n",
      "taksh lakhni\n"
     ]
    }
   ],
   "source": [
    "str1 = input(\"Entert String : \")\n",
    "l_occ = input(\"Entert String : \")\n",
    "i = str1.rfind(l_occ)\n",
    "str2 = str1[:i] + str1[i+1:]\n",
    "print(str2)"
   ]
  },
  {
   "cell_type": "markdown",
   "id": "25117ec9",
   "metadata": {},
   "source": [
    "## 15. Python Program to Remove Punctuations from a String\n"
   ]
  },
  {
   "cell_type": "code",
   "execution_count": 67,
   "id": "10579a9e",
   "metadata": {},
   "outputs": [
    {
     "name": "stdout",
     "output_type": "stream",
     "text": [
      "Enter string :taksh?l.a,kh/ani?\n",
      "takshlakhani\n"
     ]
    }
   ],
   "source": [
    "str1 = input(\"Enter string :\")\n",
    "list1 = ['?','.',',','\"\"','/']\n",
    "list2 = []\n",
    "for i in str1:\n",
    "    if i in list1:\n",
    "        continue       \n",
    "    else:\n",
    "        list2.append(i)\n",
    "str2 = \"\".join(list2)\n",
    "print(str2)"
   ]
  },
  {
   "cell_type": "markdown",
   "id": "a1e1a7be",
   "metadata": {},
   "source": [
    "## 16. Python program to Reverse a String\n"
   ]
  },
  {
   "cell_type": "code",
   "execution_count": 73,
   "id": "3a6dc8a2",
   "metadata": {},
   "outputs": [
    {
     "name": "stdout",
     "output_type": "stream",
     "text": [
      "Enter string :taksh lakhani\n",
      "inahkal hskat\n"
     ]
    }
   ],
   "source": [
    "str1 = input(\"Enter string :\")\n",
    "str2 = str1[-1:0:-1] + str1[0]\n",
    "print(str2)"
   ]
  },
  {
   "cell_type": "markdown",
   "id": "959a27ce",
   "metadata": {},
   "source": [
    "## 17. Python program to find String Length\n"
   ]
  },
  {
   "cell_type": "code",
   "execution_count": 74,
   "id": "3b36ae1f",
   "metadata": {},
   "outputs": [
    {
     "name": "stdout",
     "output_type": "stream",
     "text": [
      "Enter string :qwertyuioplkjhgfdsazxcvbnm\n",
      "length of string is : 26\n"
     ]
    }
   ],
   "source": [
    "str1 = input(\"Enter string :\")\n",
    "print(\"length of string is : {}\".format(len(str1)))"
   ]
  },
  {
   "cell_type": "markdown",
   "id": "f941d961",
   "metadata": {},
   "source": [
    "## 18. Python program to find Total Occurrence of a Character in a String\n"
   ]
  },
  {
   "cell_type": "code",
   "execution_count": 75,
   "id": "962c0bd2",
   "metadata": {},
   "outputs": [
    {
     "name": "stdout",
     "output_type": "stream",
     "text": [
      "Enter string : taksh lakhani\n",
      "Enter character : a\n",
      "a is 3 times in string.\n"
     ]
    }
   ],
   "source": [
    "str1 = input(\"Enter string : \")\n",
    "t_occ = input(\"Enter character : \")\n",
    "print(f\"{t_occ} is {str1.count(t_occ)} times in string.\")"
   ]
  },
  {
   "cell_type": "markdown",
   "id": "cd3b53ff",
   "metadata": {},
   "source": [
    "## 19. Python program to Toggle Characters Case in a String."
   ]
  },
  {
   "cell_type": "code",
   "execution_count": 77,
   "id": "6f47981d",
   "metadata": {},
   "outputs": [
    {
     "name": "stdout",
     "output_type": "stream",
     "text": [
      "Enter String : taksh lakhani is a student at tops technology.\n",
      "string in uppercase :  TAKSH LAKHANI IS A STUDENT AT TOPS TECHNOLOGY.\n",
      "string in lowercase :  taksh lakhani is a student at tops technology.\n",
      "string in lowercase :  taksh lakhani is a student at tops technology.\n",
      "string in capitalize:  Taksh lakhani is a student at tops technology.\n"
     ]
    }
   ],
   "source": [
    "str1 = input(\"Enter String : \")\n",
    "print(\"string in uppercase : \",str1.upper())\n",
    "print(\"string in lowercase : \",str1.lower())\n",
    "print(\"string in lowercase : \",str1.casefold())\n",
    "print(\"string in capitalize: \",str1.capitalize())"
   ]
  },
  {
   "cell_type": "code",
   "execution_count": null,
   "id": "e3d87b73",
   "metadata": {},
   "outputs": [],
   "source": []
  }
 ],
 "metadata": {
  "kernelspec": {
   "display_name": "Python 3",
   "language": "python",
   "name": "python3"
  },
  "language_info": {
   "codemirror_mode": {
    "name": "ipython",
    "version": 3
   },
   "file_extension": ".py",
   "mimetype": "text/x-python",
   "name": "python",
   "nbconvert_exporter": "python",
   "pygments_lexer": "ipython3",
   "version": "3.8.8"
  }
 },
 "nbformat": 4,
 "nbformat_minor": 5
}
