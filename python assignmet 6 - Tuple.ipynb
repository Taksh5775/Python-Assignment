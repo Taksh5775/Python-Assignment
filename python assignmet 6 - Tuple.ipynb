{
 "cells": [
  {
   "cell_type": "markdown",
   "id": "4ffed0cf",
   "metadata": {},
   "source": [
    "## 1. Python Program to Remove an Item from Tuple\n"
   ]
  },
  {
   "cell_type": "code",
   "execution_count": 5,
   "id": "7498fef4",
   "metadata": {},
   "outputs": [
    {
     "name": "stdout",
     "output_type": "stream",
     "text": [
      "('e', 'r', 't')\n"
     ]
    }
   ],
   "source": [
    "tuple1 = ('q','e','r','t')\n",
    "list1 = list(tuple1)\n",
    "list1.remove('q')\n",
    "print(tuple(list1))\n"
   ]
  },
  {
   "cell_type": "markdown",
   "id": "bbf7e945",
   "metadata": {},
   "source": [
    "## 2. Python Program to Slice a Tuple\n"
   ]
  },
  {
   "cell_type": "code",
   "execution_count": 1,
   "id": "5d61e2ef",
   "metadata": {},
   "outputs": [
    {
     "name": "stdout",
     "output_type": "stream",
     "text": [
      "('taksh', 'dhruv')\n"
     ]
    }
   ],
   "source": [
    "tuple1 = ('taksh','dhruv','kishan', 'krishna')\n",
    "print(tuple1[0:2])"
   ]
  },
  {
   "cell_type": "markdown",
   "id": "4561d030",
   "metadata": {},
   "source": [
    "## 3. Python Program to Unpack Tuple Items\n"
   ]
  },
  {
   "cell_type": "code",
   "execution_count": 2,
   "id": "e0513d83",
   "metadata": {
    "scrolled": true
   },
   "outputs": [
    {
     "name": "stdout",
     "output_type": "stream",
     "text": [
      "1\n",
      "taksh\n",
      "abc\n"
     ]
    }
   ],
   "source": [
    "student = (1,'taksh', 'abc')\n",
    "Id, Name, Address = student\n",
    "print(Id)\n",
    "print(Name)\n",
    "print(Address)"
   ]
  },
  {
   "cell_type": "code",
   "execution_count": 3,
   "id": "d5e7571b",
   "metadata": {},
   "outputs": [
    {
     "name": "stdout",
     "output_type": "stream",
     "text": [
      "1\n",
      "taksh\n",
      "abc\n"
     ]
    }
   ],
   "source": [
    "student = (1,'taksh', 'abc')\n",
    "Id = student[0]\n",
    "Name = student[1]\n",
    "Address = student[2]\n",
    "print(Id)\n",
    "print(Name)\n",
    "print(Address)"
   ]
  },
  {
   "cell_type": "markdown",
   "id": "e403f196",
   "metadata": {},
   "source": [
    "## 4. Python Program to Create a Tuple with Numbers\n"
   ]
  },
  {
   "cell_type": "code",
   "execution_count": 5,
   "id": "3efd4235",
   "metadata": {},
   "outputs": [
    {
     "name": "stdout",
     "output_type": "stream",
     "text": [
      "Enter Numbers : 1 2 3 4 5 6 7 8 9\n",
      "(1, 2, 3, 4, 5, 6, 7, 8, 9)\n"
     ]
    }
   ],
   "source": [
    "tuple1 = input(\"Enter Numbers : \").split()\n",
    "list1 = list(tuple1)\n",
    "list2 = []\n",
    "for i in list1:\n",
    "    list2.append(int(i))\n",
    "print(tuple(list2))"
   ]
  },
  {
   "cell_type": "markdown",
   "id": "148c389a",
   "metadata": {},
   "source": [
    "## 5. Python Program to Check Item exists in Tuple\n"
   ]
  },
  {
   "cell_type": "code",
   "execution_count": 8,
   "id": "e6d3b477",
   "metadata": {},
   "outputs": [
    {
     "name": "stdout",
     "output_type": "stream",
     "text": [
      "Enter student name that you want to check : dhruv\n",
      "dhruv is exists in tuple.\n"
     ]
    }
   ],
   "source": [
    "student_Name = ('dhruv','krishna','taksh', 'kishan')\n",
    "check = input(\"Enter student name that you want to check : \")\n",
    "if check in student_Name:\n",
    "    print(\"{} is exists in tuple.\".format(check))\n",
    "else:\n",
    "    print(\"{} is not exists in tuple.\".format(check))\n",
    "        "
   ]
  },
  {
   "cell_type": "markdown",
   "id": "9f049a36",
   "metadata": {},
   "source": [
    "## 6. Python Program to Find Largest and Smallest Item in a Tuple\n"
   ]
  },
  {
   "cell_type": "code",
   "execution_count": 9,
   "id": "faf88cb4",
   "metadata": {},
   "outputs": [
    {
     "name": "stdout",
     "output_type": "stream",
     "text": [
      "largest items is taksh\n",
      "smallest items is dhruv\n"
     ]
    }
   ],
   "source": [
    "student_Name = ('dhruv','krishna','taksh', 'kishan')\n",
    "print(f\"largest items is {max(student_Name)}\")\n",
    "print(f\"smallest items is {min(student_Name)}\")"
   ]
  },
  {
   "cell_type": "markdown",
   "id": "d5628582",
   "metadata": {},
   "source": [
    "## 7. Python Program to Find Sum of Even and Odd Numbers in Tuple"
   ]
  },
  {
   "cell_type": "code",
   "execution_count": 10,
   "id": "84493f42",
   "metadata": {},
   "outputs": [
    {
     "name": "stdout",
     "output_type": "stream",
     "text": [
      "sum of odd integers is 25\n",
      "sum of Even integers is 30\n"
     ]
    }
   ],
   "source": [
    "numbers = (1,2,3,4,5,6,7,8,9,10)\n",
    "O_sum = 0\n",
    "E_sum = 0\n",
    "for i in numbers:\n",
    "    if i % 2 == 0:\n",
    "        E_sum += i\n",
    "    else:\n",
    "        O_sum += i\n",
    "print(f\"sum of odd integers is {O_sum}\")\n",
    "print(f\"sum of Even integers is {E_sum}\")"
   ]
  },
  {
   "cell_type": "markdown",
   "id": "1f0e7164",
   "metadata": {},
   "source": [
    "## 8. Python Program to Find Sum of Tuple Items\n"
   ]
  },
  {
   "cell_type": "code",
   "execution_count": 12,
   "id": "ad7f1e19",
   "metadata": {},
   "outputs": [
    {
     "name": "stdout",
     "output_type": "stream",
     "text": [
      "Sum of Tuple Items is 55\n"
     ]
    }
   ],
   "source": [
    "numbers = (1,2,3,4,5,6,7,8,9,10)\n",
    "sum1 = 0\n",
    "for i in numbers:\n",
    "    sum1 += i\n",
    "print(f\"Sum of Tuple Items is {sum1}\")"
   ]
  },
  {
   "cell_type": "markdown",
   "id": "347f8809",
   "metadata": {},
   "source": [
    "## 9. Python Program to Reverse Tuple\n"
   ]
  },
  {
   "cell_type": "code",
   "execution_count": 18,
   "id": "d47dd55f",
   "metadata": {},
   "outputs": [
    {
     "name": "stdout",
     "output_type": "stream",
     "text": [
      "reverse tuple is (10, 9, 8, 7, 6, 5, 4, 3, 2, 1)\n"
     ]
    }
   ],
   "source": [
    "numbers = (1,2,3,4,5,6,7,8,9,10)\n",
    "print(f\"reverse tuple is {numbers[::-1]}\")"
   ]
  },
  {
   "cell_type": "markdown",
   "id": "912aac35",
   "metadata": {},
   "source": [
    "## 10. Count Positive and Negative Numbers in Tuple\n"
   ]
  },
  {
   "cell_type": "code",
   "execution_count": 20,
   "id": "3813b57c",
   "metadata": {},
   "outputs": [
    {
     "name": "stdout",
     "output_type": "stream",
     "text": [
      "sum of Negative integers is 6\n",
      "sum of Positive integers is 10\n"
     ]
    }
   ],
   "source": [
    "numbers = (1,2,3,4,5,6,7,8,9,10,-1,-2,-3,-4,-5,-6)\n",
    "N_sum = 0\n",
    "P_sum = 0\n",
    "for i in numbers:\n",
    "    if i > 0:\n",
    "        P_sum += 1\n",
    "    else:\n",
    "        N_sum += 1\n",
    "print(f\"sum of Negative integers is {N_sum}\")\n",
    "print(f\"sum of Positive integers is {P_sum}\")"
   ]
  },
  {
   "cell_type": "markdown",
   "id": "44eca624",
   "metadata": {},
   "source": [
    "## 11. Count Even and Odd Numbers in Tuple\n"
   ]
  },
  {
   "cell_type": "code",
   "execution_count": 21,
   "id": "ebe2bc1f",
   "metadata": {},
   "outputs": [
    {
     "name": "stdout",
     "output_type": "stream",
     "text": [
      "sum of odd integers is 5\n",
      "sum of Even integers is 5\n"
     ]
    }
   ],
   "source": [
    "numbers = (1,2,3,4,5,6,7,8,9,10)\n",
    "O_sum = 0\n",
    "E_sum = 0\n",
    "for i in numbers:\n",
    "    if i % 2 == 0:\n",
    "        E_sum += 1\n",
    "    else:\n",
    "        O_sum += 1\n",
    "print(f\"sum of odd integers is {O_sum}\")\n",
    "print(f\"sum of Even integers is {E_sum}\")"
   ]
  },
  {
   "cell_type": "markdown",
   "id": "4802c473",
   "metadata": {},
   "source": [
    "## 12. Python Program to Print Even Numbers in Tuple\n"
   ]
  },
  {
   "cell_type": "code",
   "execution_count": 22,
   "id": "6713d797",
   "metadata": {},
   "outputs": [
    {
     "name": "stdout",
     "output_type": "stream",
     "text": [
      "Enter Number : 1\n",
      "Enter Number : 2\n",
      "Enter Number : 3\n",
      "Enter Number : 4\n",
      "Enter Number : 5\n",
      "Enter Number : 6\n",
      "Enter Number : 7\n",
      "Enter Number : 8\n",
      "Enter Number : -1\n",
      "(2, 4, 6, 8)\n"
     ]
    }
   ],
   "source": [
    "number = 0\n",
    "list1 = []\n",
    "while number != -1:\n",
    "    number = int(input(\"Enter Number : \"))\n",
    "    if number % 2 == 0:\n",
    "        list1.append(number)\n",
    "print(tuple(list1))"
   ]
  },
  {
   "cell_type": "markdown",
   "id": "52861233",
   "metadata": {},
   "source": [
    "## 13. Python Program to Print Negative Numbers in Tuple\n"
   ]
  },
  {
   "cell_type": "code",
   "execution_count": 23,
   "id": "6da94de5",
   "metadata": {},
   "outputs": [
    {
     "name": "stdout",
     "output_type": "stream",
     "text": [
      "Enter Number : -1\n",
      "Enter Number : -2\n",
      "Enter Number : -2\n",
      "Enter Number : -3\n",
      "Enter Number : -4\n",
      "Enter Number : 5\n",
      "Enter Number : 2\n",
      "Enter Number : 1\n",
      "Enter Number : 4\n",
      "Enter Number : 0\n",
      "(-1, -2, -2, -3, -4)\n"
     ]
    }
   ],
   "source": [
    "number = 1\n",
    "list1 = []\n",
    "while number != 0:\n",
    "    number = int(input(\"Enter Number : \"))\n",
    "    if number < 0:\n",
    "        list1.append(number)\n",
    "print(tuple(list1))"
   ]
  },
  {
   "cell_type": "markdown",
   "id": "86690e35",
   "metadata": {},
   "source": [
    "## 14. Python Program to Get Tuple Items\n"
   ]
  },
  {
   "cell_type": "code",
   "execution_count": 44,
   "id": "ff04185c",
   "metadata": {},
   "outputs": [
    {
     "name": "stdout",
     "output_type": "stream",
     "text": [
      "enter index number : 1\n",
      "2\n",
      "enter index number : 2\n",
      "3\n",
      "enter index number : 5\n",
      "6\n",
      "enter index number : 10\n",
      "index is not exists.\n",
      "enter index number : 12\n",
      "index is not exists.\n",
      "enter index number : 8\n",
      "9\n",
      "enter index number : -1\n",
      "10\n"
     ]
    }
   ],
   "source": [
    "numbers = (1,2,3,4,5,6,7,8,9,10)\n",
    "i_tuple = 0\n",
    "while i_tuple != -1:\n",
    "    i_tuple = int(input(\"enter index number : \"))\n",
    "    if i_tuple < len(numbers):\n",
    "            print(numbers[i_tuple])\n",
    "    else:\n",
    "        print(\"index is not exists.\")"
   ]
  },
  {
   "cell_type": "markdown",
   "id": "4eb0e197",
   "metadata": {},
   "source": [
    "## 15. Python Program to Print Positive Numbers in Tuple\n"
   ]
  },
  {
   "cell_type": "code",
   "execution_count": 35,
   "id": "709a88d8",
   "metadata": {},
   "outputs": [
    {
     "name": "stdout",
     "output_type": "stream",
     "text": [
      "Enter Number : 1\n",
      "Enter Number : 2\n",
      "Enter Number : 3\n",
      "Enter Number : -4\n",
      "Enter Number : -3\n",
      "Enter Number : -2\n",
      "Enter Number : -1\n",
      "Enter Number : 8\n",
      "Enter Number : 0\n",
      "(1, 2, 3, 8)\n"
     ]
    }
   ],
   "source": [
    "number = 1\n",
    "list1 = []\n",
    "while number != 0:\n",
    "    number = int(input(\"Enter Number : \"))\n",
    "    if number > 0:\n",
    "        list1.append(number)\n",
    "print(tuple(list1))"
   ]
  },
  {
   "cell_type": "markdown",
   "id": "2313ce56",
   "metadata": {},
   "source": [
    "## 16. Python Program to Print Odd Numbers in Tuple\n"
   ]
  },
  {
   "cell_type": "code",
   "execution_count": 36,
   "id": "a0c6b688",
   "metadata": {},
   "outputs": [
    {
     "name": "stdout",
     "output_type": "stream",
     "text": [
      "Enter Number : 1\n",
      "Enter Number : 23\n",
      "Enter Number : 52\n",
      "Enter Number : 75\n",
      "Enter Number : 42\n",
      "Enter Number : 85\n",
      "Enter Number : 15\n",
      "Enter Number : 42\n",
      "Enter Number : 26\n",
      "Enter Number : 0\n",
      "(1, 23, 75, 85, 15)\n"
     ]
    }
   ],
   "source": [
    "number = 1\n",
    "list1 = []\n",
    "while number != 0:\n",
    "    number = int(input(\"Enter Number : \"))\n",
    "    if number % 2 != 0:\n",
    "        list1.append(number)\n",
    "print(tuple(list1))"
   ]
  },
  {
   "cell_type": "markdown",
   "id": "770b1c6c",
   "metadata": {},
   "source": [
    "## 17. Python Program to Find Smallest Item in a Tuple\n"
   ]
  },
  {
   "cell_type": "code",
   "execution_count": 38,
   "id": "90ebf1f4",
   "metadata": {},
   "outputs": [
    {
     "name": "stdout",
     "output_type": "stream",
     "text": [
      "smallest items is dhruv\n"
     ]
    }
   ],
   "source": [
    "student_Name = ('dhruv','krishna','taksh', 'kishan')\n",
    "print(f\"smallest items is {min(student_Name)}\")"
   ]
  },
  {
   "cell_type": "markdown",
   "id": "330d405a",
   "metadata": {},
   "source": [
    "## 18. Python Program to Find Largest Item in a Tuple\n"
   ]
  },
  {
   "cell_type": "code",
   "execution_count": 39,
   "id": "44e60030",
   "metadata": {},
   "outputs": [
    {
     "name": "stdout",
     "output_type": "stream",
     "text": [
      "largestest items is taksh\n"
     ]
    }
   ],
   "source": [
    "student_Name = ('dhruv','krishna','taksh', 'kishan')\n",
    "print(f\"largestest items is {max(student_Name)}\")"
   ]
  },
  {
   "cell_type": "markdown",
   "id": "06eb10c2",
   "metadata": {},
   "source": [
    "## 19. Python Program to Print Tuple Items\n"
   ]
  },
  {
   "cell_type": "code",
   "execution_count": 42,
   "id": "edd22e37",
   "metadata": {},
   "outputs": [
    {
     "name": "stdout",
     "output_type": "stream",
     "text": [
      "dhruv\n",
      "krishna\n",
      "taksh\n",
      "kishan\n"
     ]
    }
   ],
   "source": [
    "student_Name = ('dhruv','krishna','taksh', 'kishan')\n",
    "for i in student_Name:\n",
    "    print(i)"
   ]
  },
  {
   "cell_type": "markdown",
   "id": "2c2b62e7",
   "metadata": {},
   "source": [
    "## 20. Python Program to Find Tuple Length."
   ]
  },
  {
   "cell_type": "code",
   "execution_count": 43,
   "id": "99e20bfa",
   "metadata": {},
   "outputs": [
    {
     "name": "stdout",
     "output_type": "stream",
     "text": [
      "4\n"
     ]
    }
   ],
   "source": [
    "student_Name = ('dhruv','krishna','taksh', 'kishan')\n",
    "print(len(student_Name))"
   ]
  },
  {
   "cell_type": "code",
   "execution_count": null,
   "id": "f3f75430",
   "metadata": {},
   "outputs": [],
   "source": []
  }
 ],
 "metadata": {
  "kernelspec": {
   "display_name": "Python 3",
   "language": "python",
   "name": "python3"
  },
  "language_info": {
   "codemirror_mode": {
    "name": "ipython",
    "version": 3
   },
   "file_extension": ".py",
   "mimetype": "text/x-python",
   "name": "python",
   "nbconvert_exporter": "python",
   "pygments_lexer": "ipython3",
   "version": "3.8.8"
  }
 },
 "nbformat": 4,
 "nbformat_minor": 5
}
