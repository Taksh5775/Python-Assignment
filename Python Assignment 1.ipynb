{
 "cells": [
  {
   "cell_type": "markdown",
   "id": "a747ed18",
   "metadata": {},
   "source": [
    "## 1. Python program to add Two Numbers"
   ]
  },
  {
   "cell_type": "code",
   "execution_count": 5,
   "id": "8a9a0915",
   "metadata": {},
   "outputs": [
    {
     "name": "stdout",
     "output_type": "stream",
     "text": [
      "Enter First Number : 8 \n",
      "Enter Second Number : 5\n",
      "Sum of 8 and 5 is 13\n"
     ]
    }
   ],
   "source": [
    "n1 = int(input(\"Enter First Number : \"))\n",
    "n2 = int(input(\"Enter Second Number : \"))\n",
    "sum1 = n1 + n2\n",
    "print(\"Sum of\",n1,\"and\",n2,\"is\",sum1)"
   ]
  },
  {
   "cell_type": "markdown",
   "id": "68b3b116",
   "metadata": {},
   "source": [
    "## 2. Python program to subtract two numbers\n"
   ]
  },
  {
   "cell_type": "code",
   "execution_count": 7,
   "id": "e929464f",
   "metadata": {},
   "outputs": [
    {
     "name": "stdout",
     "output_type": "stream",
     "text": [
      "Enter First Number : 8\n",
      "Enter Second Number : 5\n",
      "here 8 - 5 = 3\n"
     ]
    }
   ],
   "source": [
    "n1 = int(input(\"Enter First Number : \"))\n",
    "n2 = int(input(\"Enter Second Number : \"))\n",
    "sub1 = n1 - n2\n",
    "print(\"here\",n1,\"-\",n2,\"=\",sub1)"
   ]
  },
  {
   "cell_type": "markdown",
   "id": "875dc4b9",
   "metadata": {},
   "source": [
    "## 3. Python Program to Multiply Two numbers\n"
   ]
  },
  {
   "cell_type": "code",
   "execution_count": 8,
   "id": "34c93b3f",
   "metadata": {},
   "outputs": [
    {
     "name": "stdout",
     "output_type": "stream",
     "text": [
      "Enter First Number : 8\n",
      "Enter Second Number : 5\n",
      "here 8 * 5 = 40\n"
     ]
    }
   ],
   "source": [
    "n1 = int(input(\"Enter First Number : \"))\n",
    "n2 = int(input(\"Enter Second Number : \"))\n",
    "mul1 = n1 * n2\n",
    "print(\"here\",n1,\"*\",n2,\"=\",mul1)"
   ]
  },
  {
   "cell_type": "markdown",
   "id": "1689b3cd",
   "metadata": {},
   "source": [
    "## 4. Python program for Arithmetic Operations\n"
   ]
  },
  {
   "cell_type": "code",
   "execution_count": 10,
   "id": "de8f6aeb",
   "metadata": {},
   "outputs": [
    {
     "name": "stdout",
     "output_type": "stream",
     "text": [
      "Enter First number: 8\n",
      "Enter Second number 5\n",
      "addition of  8 and 5 is : 13\n",
      "Substraction of  8 and 5 is : 3\n",
      "multiplication of  8 and 5 is : 40\n",
      "division of  8 and 5 is : 1.6\n",
      "power of  8 and 5 is : 32768\n",
      "modulus of  8 and 5 is : 3\n"
     ]
    }
   ],
   "source": [
    "n1 = int(input('Enter First number: '))\n",
    "n2 = int(input('Enter Second number '))\n",
    "add = n1 + n2\n",
    "sub = n1 - n2\n",
    "mul = n1 * n2\n",
    "div = n1 / n2\n",
    "power = n1 ** n2\n",
    "modulus = n1 % n2\n",
    "\n",
    "print('addition of ',n1 ,'and' ,n2 ,'is :',add)\n",
    "print('Substraction of ',n1 ,'and' ,n2 ,'is :',sub)\n",
    "print('multiplication of ',n1 ,'and' ,n2 ,'is :',mul)\n",
    "print('division of ',n1 ,'and' ,n2 ,'is :',div)\n",
    "print('power of ',n1 ,'and' ,n2 ,'is :',power)\n",
    "print('modulus of ',n1 ,'and' ,n2 ,'is :',modulus)"
   ]
  },
  {
   "cell_type": "markdown",
   "id": "3cfde8fb",
   "metadata": {},
   "source": [
    "## 5. Python program to print Calendar\n"
   ]
  },
  {
   "cell_type": "code",
   "execution_count": null,
   "id": "8c3c7f0e",
   "metadata": {},
   "outputs": [],
   "source": []
  },
  {
   "cell_type": "markdown",
   "id": "60fb6cd7",
   "metadata": {},
   "source": [
    "## 6. Python program to find Cube of a Number\n"
   ]
  },
  {
   "cell_type": "code",
   "execution_count": 11,
   "id": "72436ddb",
   "metadata": {},
   "outputs": [
    {
     "name": "stdout",
     "output_type": "stream",
     "text": [
      "Enter First number: 5\n",
      "cube of 5 is 125\n"
     ]
    }
   ],
   "source": [
    "n1 = int(input('Enter First number: '))\n",
    "cube = n1 ** 3\n",
    "print(\"cube of\",n1,\"is\",cube)\n"
   ]
  },
  {
   "cell_type": "markdown",
   "id": "a8a64f3c",
   "metadata": {},
   "source": [
    "## 7. Python program to find Largest of 2 Numbers\n"
   ]
  },
  {
   "cell_type": "code",
   "execution_count": 14,
   "id": "7d4250c2",
   "metadata": {},
   "outputs": [
    {
     "name": "stdout",
     "output_type": "stream",
     "text": [
      "Enter First number: 75\n",
      "Enter Second number 48\n",
      "large number is 75\n"
     ]
    }
   ],
   "source": [
    "n1 = int(input('Enter First number: '))\n",
    "n2 = int(input('Enter Second number '))\n",
    "print(\"large number is\",max(n1,n2))"
   ]
  },
  {
   "cell_type": "markdown",
   "id": "35c7d679",
   "metadata": {},
   "source": [
    "## 8. Python program to find Largest of 3 Numbers\n"
   ]
  },
  {
   "cell_type": "code",
   "execution_count": 24,
   "id": "fdf9e905",
   "metadata": {},
   "outputs": [
    {
     "name": "stdout",
     "output_type": "stream",
     "text": [
      "Enter numbers : 7 5 9\n",
      "largest number is  9\n"
     ]
    }
   ],
   "source": [
    "a,b,c = map(int,input('Enter numbers : ').split())\n",
    "# n2 = int(input('Enter Second number '))\n",
    "if a > b and a > c :\n",
    "    print(\"largest number is \",a)\n",
    "elif b > a and b > c :\n",
    "    print(\"largest number is \",b)\n",
    "else:\n",
    "    print(\"largest number is \",c)\n",
    "    "
   ]
  },
  {
   "cell_type": "markdown",
   "id": "9b846fc3",
   "metadata": {},
   "source": [
    "## 9. Python program to Print Natural number 1 to N\n"
   ]
  },
  {
   "cell_type": "code",
   "execution_count": 26,
   "id": "5023880f",
   "metadata": {},
   "outputs": [
    {
     "name": "stdout",
     "output_type": "stream",
     "text": [
      "Enter number :5\n",
      "1\n",
      "2\n",
      "3\n",
      "4\n",
      "5\n"
     ]
    }
   ],
   "source": [
    "n1 = int(input(\"Enter number :\"))\n",
    "for i in range(1,n1+1):\n",
    "    print(i)"
   ]
  },
  {
   "cell_type": "markdown",
   "id": "523522a5",
   "metadata": {},
   "source": [
    "## 10.Python program for Leap Year\n"
   ]
  },
  {
   "cell_type": "code",
   "execution_count": 32,
   "id": "45b8113d",
   "metadata": {},
   "outputs": [
    {
     "name": "stdout",
     "output_type": "stream",
     "text": [
      "Enter year : 2020\n",
      "2020 is a leap year.\n"
     ]
    }
   ],
   "source": [
    "year = int(input(\"Enter year : \"))\n",
    "if year % 4 == 0 or year % 100 == 0 or year % 400 == 0:\n",
    "    print(year,\"is a leap year.\")\n",
    "else:\n",
    "    print(year,\"is not a leap year.\")\n",
    "    "
   ]
  },
  {
   "cell_type": "markdown",
   "id": "cd8306cb",
   "metadata": {},
   "source": [
    "## 11.Python program to find Odd or Even\n"
   ]
  },
  {
   "cell_type": "code",
   "execution_count": 33,
   "id": "6c429c12",
   "metadata": {},
   "outputs": [
    {
     "name": "stdout",
     "output_type": "stream",
     "text": [
      "Enter number :55\n",
      "55 is odd number.\n"
     ]
    }
   ],
   "source": [
    "n1 = int(input(\"Enter number :\"))\n",
    "if n1 % 2 == 0:\n",
    "    print(n1,\"is even number.\")\n",
    "else:\n",
    "    print(n1,\"is odd number.\")    "
   ]
  },
  {
   "cell_type": "markdown",
   "id": "831ec135",
   "metadata": {},
   "source": [
    "## 12.Python program to print Even Numbers from 1 to 100\n"
   ]
  },
  {
   "cell_type": "code",
   "execution_count": 36,
   "id": "4f41cea4",
   "metadata": {},
   "outputs": [
    {
     "name": "stdout",
     "output_type": "stream",
     "text": [
      "[2, 4, 6, 8, 10, 12, 14, 16, 18, 20, 22, 24, 26, 28, 30, 32, 34, 36, 38, 40, 42, 44, 46, 48, 50, 52, 54, 56, 58, 60, 62, 64, 66, 68, 70, 72, 74, 76, 78, 80, 82, 84, 86, 88, 90, 92, 94, 96, 98, 100]\n"
     ]
    }
   ],
   "source": [
    "list1 = []\n",
    "for i in range(2,101,2):\n",
    "    list1.append(i)\n",
    "print(list1)\n",
    "    "
   ]
  },
  {
   "cell_type": "markdown",
   "id": "bbd7c95e",
   "metadata": {},
   "source": [
    "## 13.Python program to print Odd Numbers from 1 to 100\n"
   ]
  },
  {
   "cell_type": "code",
   "execution_count": 37,
   "id": "6f116c35",
   "metadata": {},
   "outputs": [
    {
     "name": "stdout",
     "output_type": "stream",
     "text": [
      "[1, 3, 5, 7, 9, 11, 13, 15, 17, 19, 21, 23, 25, 27, 29, 31, 33, 35, 37, 39, 41, 43, 45, 47, 49, 51, 53, 55, 57, 59, 61, 63, 65, 67, 69, 71, 73, 75, 77, 79, 81, 83, 85, 87, 89, 91, 93, 95, 97, 99]\n"
     ]
    }
   ],
   "source": [
    "list1 = []\n",
    "for i in range(1,101):\n",
    "    if i % 2 != 0:\n",
    "        list1.append(i)\n",
    "print(list1)\n",
    "    "
   ]
  },
  {
   "cell_type": "markdown",
   "id": "7ee09966",
   "metadata": {},
   "source": [
    "## 14.Python Program to Print Negative Numbers in a Range\n"
   ]
  },
  {
   "cell_type": "code",
   "execution_count": 38,
   "id": "a53f8037",
   "metadata": {},
   "outputs": [
    {
     "name": "stdout",
     "output_type": "stream",
     "text": [
      "[-5, -4, -3, -2, -1]\n"
     ]
    }
   ],
   "source": [
    "list1 = []\n",
    "for i in range(-5,5):\n",
    "    if i < 0:\n",
    "        list1.append(i)\n",
    "print(list1)\n",
    "    "
   ]
  },
  {
   "cell_type": "markdown",
   "id": "1dc01fb6",
   "metadata": {},
   "source": [
    "## 15.Python Program to Print Positive Numbers in a Range\n"
   ]
  },
  {
   "cell_type": "code",
   "execution_count": 39,
   "id": "d3bb81e4",
   "metadata": {},
   "outputs": [
    {
     "name": "stdout",
     "output_type": "stream",
     "text": [
      "[1, 2, 3, 4]\n"
     ]
    }
   ],
   "source": [
    "list1 = []\n",
    "for i in range(-5,5):\n",
    "    if i > 0:\n",
    "        list1.append(i)\n",
    "print(list1)\n",
    "    "
   ]
  },
  {
   "cell_type": "markdown",
   "id": "57c8f1f0",
   "metadata": {},
   "source": [
    "## 16.Python program to find Positive or Negative\n"
   ]
  },
  {
   "cell_type": "code",
   "execution_count": 41,
   "id": "e5316127",
   "metadata": {},
   "outputs": [
    {
     "name": "stdout",
     "output_type": "stream",
     "text": [
      "Enter number :-1\n",
      "-1 is negative.\n"
     ]
    }
   ],
   "source": [
    "n1 = int(input(\"Enter number :\"))\n",
    "if n1 >= 0:\n",
    "    print(n1,\"is positive.\")\n",
    "else:\n",
    "    print(n1,\"is negative.\")    "
   ]
  },
  {
   "cell_type": "markdown",
   "id": "f37c6aef",
   "metadata": {},
   "source": [
    "## 17.Python program to find Profit Or Loss\n"
   ]
  },
  {
   "cell_type": "code",
   "execution_count": 45,
   "id": "93170326",
   "metadata": {},
   "outputs": [
    {
     "name": "stdout",
     "output_type": "stream",
     "text": [
      "Enter original price :10\n",
      "Enter selling price :200\n",
      "loss is 190\n"
     ]
    }
   ],
   "source": [
    "original_price = int(input(\"Enter original price :\"))\n",
    "selling_price = int(input(\"Enter selling price :\"))\n",
    "profit = original_price - selling_price\n",
    "loss = selling_price - original_price\n",
    "if original_price > selling_price:\n",
    "    print(\"profit is\",profit)\n",
    "else:\n",
    "    print(\"loss is\",loss)\n",
    "    \n",
    "    "
   ]
  },
  {
   "cell_type": "markdown",
   "id": "e84e74ce",
   "metadata": {},
   "source": [
    "## 18.Python program to find Square of a Number."
   ]
  },
  {
   "cell_type": "code",
   "execution_count": 46,
   "id": "58c5b65f",
   "metadata": {},
   "outputs": [
    {
     "name": "stdout",
     "output_type": "stream",
     "text": [
      "Enter number :5\n",
      "square of 5 is 25\n"
     ]
    }
   ],
   "source": [
    "n1 = int(input(\"Enter number :\"))\n",
    "square = n1 ** 2\n",
    "print(\"square of\",n1,\"is\",square)"
   ]
  },
  {
   "cell_type": "code",
   "execution_count": null,
   "id": "0a198839",
   "metadata": {},
   "outputs": [],
   "source": []
  }
 ],
 "metadata": {
  "kernelspec": {
   "display_name": "Python 3",
   "language": "python",
   "name": "python3"
  },
  "language_info": {
   "codemirror_mode": {
    "name": "ipython",
    "version": 3
   },
   "file_extension": ".py",
   "mimetype": "text/x-python",
   "name": "python",
   "nbconvert_exporter": "python",
   "pygments_lexer": "ipython3",
   "version": "3.8.8"
  }
 },
 "nbformat": 4,
 "nbformat_minor": 5
}
